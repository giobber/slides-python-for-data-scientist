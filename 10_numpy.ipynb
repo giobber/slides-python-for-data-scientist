{
 "cells": [
  {
   "cell_type": "markdown",
   "id": "6ed6a02e",
   "metadata": {
    "slideshow": {
     "slide_type": "slide"
    }
   },
   "source": [
    "# Python for Data Scientist\n",
    "## From data manipulation to machine learning"
   ]
  },
  {
   "cell_type": "markdown",
   "id": "501ac845",
   "metadata": {
    "slideshow": {
     "slide_type": "slide"
    }
   },
   "source": [
    "# NumPy\n",
    "## https://numpy.org/"
   ]
  },
  {
   "cell_type": "markdown",
   "id": "05d88bdb",
   "metadata": {
    "slideshow": {
     "slide_type": "subslide"
    }
   },
   "source": [
    "**NumPy** (**Num**erical **Py**thon)\n",
    "\n",
    "Libreria per il calcolo numerico in Python"
   ]
  },
  {
   "cell_type": "markdown",
   "id": "d3884ee3",
   "metadata": {
    "slideshow": {
     "slide_type": "subslide"
    }
   },
   "source": [
    "<div class=\"gallery\">\n",
    "    <img src=images/pandas-logo.png style=\"max-width: 30%\">\n",
    "    <img src=images/pytorch-logo.png style=\"max-width: 30%\">\n",
    "    <img src=images/pillow-logo.png style=\"max-width: 30%\">\n",
    "</div>"
   ]
  },
  {
   "cell_type": "code",
   "execution_count": 1,
   "id": "bde68f9a",
   "metadata": {
    "slideshow": {
     "slide_type": "subslide"
    }
   },
   "outputs": [
    {
     "data": {
      "text/plain": [
       "'1.23.5'"
      ]
     },
     "execution_count": 1,
     "metadata": {},
     "output_type": "execute_result"
    }
   ],
   "source": [
    "import numpy as np\n",
    "\n",
    "np.version.version"
   ]
  },
  {
   "cell_type": "markdown",
   "id": "dd758142",
   "metadata": {
    "slideshow": {
     "slide_type": "subslide"
    }
   },
   "source": [
    "* Struttura dati efficiente (_ndarray_)\n",
    "* operazioni di calcolo su array\n",
    "* algebra lineare, numeri random\n",
    "* Efficienza di C/FORTRAN"
   ]
  },
  {
   "cell_type": "markdown",
   "id": "430e926c",
   "metadata": {
    "slideshow": {
     "slide_type": "slide"
    }
   },
   "source": [
    "# ndarray"
   ]
  },
  {
   "cell_type": "markdown",
   "id": "572ec72b",
   "metadata": {
    "slideshow": {
     "slide_type": "subslide"
    }
   },
   "source": [
    "* dati omogenei\n",
    "* array vs liste\n",
    "* efficienti"
   ]
  },
  {
   "cell_type": "markdown",
   "id": "3f93938e",
   "metadata": {
    "slideshow": {
     "slide_type": "subslide"
    }
   },
   "source": [
    "<img src=images/ndarray/array.svg class=\"center\" />"
   ]
  },
  {
   "cell_type": "markdown",
   "id": "cd8fa3cf",
   "metadata": {
    "slideshow": {
     "slide_type": "fragment"
    }
   },
   "source": [
    "<img src=images/ndarray/list.svg class=\"center\" />"
   ]
  },
  {
   "cell_type": "code",
   "execution_count": 2,
   "id": "bc484c73",
   "metadata": {
    "slideshow": {
     "slide_type": "subslide"
    }
   },
   "outputs": [],
   "source": [
    "# Una lista può contenere dati omogenei\n",
    "list_a = [1, 2, 3, 4, 5]\n",
    "\n",
    "# oppure no\n",
    "list_b = [1, \"2\", range(3), 5.236, 5]\n",
    "\n",
    "# Meglio le tuple\n",
    "tuple_b = (1, \"2\", range(3), 5.236, 5)"
   ]
  },
  {
   "cell_type": "code",
   "execution_count": 3,
   "id": "089ad4f6",
   "metadata": {
    "slideshow": {
     "slide_type": "fragment"
    }
   },
   "outputs": [
    {
     "data": {
      "text/plain": [
       "array([1, 2, 3, 4, 5])"
      ]
     },
     "execution_count": 3,
     "metadata": {},
     "output_type": "execute_result"
    }
   ],
   "source": [
    "np.array([1, 2, 3, 4, 5])\n",
    "\n",
    "# np.array([1, 2, \"1\"])"
   ]
  },
  {
   "cell_type": "markdown",
   "id": "a9ca9442",
   "metadata": {
    "slideshow": {
     "slide_type": "subslide"
    }
   },
   "source": [
    "## Efficienza"
   ]
  },
  {
   "cell_type": "code",
   "execution_count": 4,
   "id": "75acbd0d",
   "metadata": {
    "slideshow": {
     "slide_type": "fragment"
    }
   },
   "outputs": [],
   "source": [
    "my_arr = np.arange(10**6)\n",
    "\n",
    "my_list = list(range(10**6))"
   ]
  },
  {
   "cell_type": "code",
   "execution_count": 5,
   "id": "4813a222",
   "metadata": {
    "slideshow": {
     "slide_type": "fragment"
    }
   },
   "outputs": [
    {
     "name": "stdout",
     "output_type": "stream",
     "text": [
      "CPU times: user 31.5 ms, sys: 149 ms, total: 180 ms\n",
      "Wall time: 12.7 ms\n"
     ]
    }
   ],
   "source": [
    "%time for _ in range(10): result = my_arr * 2 "
   ]
  },
  {
   "cell_type": "code",
   "execution_count": 6,
   "id": "8091cddb",
   "metadata": {
    "slideshow": {
     "slide_type": "fragment"
    }
   },
   "outputs": [
    {
     "name": "stdout",
     "output_type": "stream",
     "text": [
      "CPU times: user 176 ms, sys: 111 ms, total: 287 ms\n",
      "Wall time: 249 ms\n"
     ]
    }
   ],
   "source": [
    "%time for _ in range(10): result = [x*2 for x in my_list]"
   ]
  },
  {
   "cell_type": "markdown",
   "id": "fcf2c90d",
   "metadata": {
    "slideshow": {
     "slide_type": "subslide"
    }
   },
   "source": [
    "## shape\n",
    "\n",
    "**tupla**, indica la misura di ogni dimensione"
   ]
  },
  {
   "cell_type": "markdown",
   "id": "9f7e34cf",
   "metadata": {
    "slideshow": {
     "slide_type": "fragment"
    }
   },
   "source": [
    "<div class=\"gallery\">\n",
    "    <img src=images/ndarray/array.svg width=30% />\n",
    "    <img src=images/ndarray/matrix.svg width=30% />\n",
    "    <img src=images/ndarray/pexels-miguel-á-padriñán-19677.jpg width=30%>\n",
    "</div>\n",
    "<div class=\"gallery\">\n",
    "    <div style=\"width: 30%\">(5,)</div>\n",
    "    <div style=\"width: 30%\">(5, 5)</div>\n",
    "    <div style=\"width: 30%\">(3, 3, 3)</div>\n",
    "</div>"
   ]
  },
  {
   "cell_type": "code",
   "execution_count": 7,
   "id": "32089179",
   "metadata": {
    "slideshow": {
     "slide_type": "subslide"
    }
   },
   "outputs": [
    {
     "data": {
      "text/plain": [
       "array([ 0,  1,  2,  3,  4,  5,  6,  7,  8,  9, 10, 11, 12, 13, 14])"
      ]
     },
     "execution_count": 7,
     "metadata": {},
     "output_type": "execute_result"
    }
   ],
   "source": [
    "np.arange(15)\n",
    "\n",
    "# np.random.randint(10, size=15)"
   ]
  },
  {
   "cell_type": "code",
   "execution_count": 8,
   "id": "1719a5cd",
   "metadata": {
    "slideshow": {
     "slide_type": "fragment"
    }
   },
   "outputs": [
    {
     "data": {
      "text/plain": [
       "array([[8, 9, 3],\n",
       "       [4, 4, 8],\n",
       "       [1, 7, 7]])"
      ]
     },
     "execution_count": 8,
     "metadata": {},
     "output_type": "execute_result"
    }
   ],
   "source": [
    "np.random.randint(0, 10, size=(3, 3))"
   ]
  },
  {
   "cell_type": "markdown",
   "id": "b6d88735",
   "metadata": {
    "slideshow": {
     "slide_type": "subslide"
    }
   },
   "source": [
    "## dtype\n",
    "\n",
    "Descrive il tipo di dato dell'array"
   ]
  },
  {
   "cell_type": "markdown",
   "id": "4ef0ac5b",
   "metadata": {
    "slideshow": {
     "slide_type": "fragment"
    }
   },
   "source": [
    "* **int**(8, 16, 32, 64)\n",
    "* **uint**(8, 16, 32, 64)\n",
    "* **float**(16, 32, 64, 128)\n",
    "* **complex**(64, 128, 265)\n",
    "* bool, object, string_, unicode_"
   ]
  },
  {
   "cell_type": "code",
   "execution_count": 9,
   "id": "8c628f38",
   "metadata": {
    "slideshow": {
     "slide_type": "subslide"
    }
   },
   "outputs": [
    {
     "data": {
      "text/plain": [
       "array([1, 1, 1, 1, 1])"
      ]
     },
     "metadata": {},
     "output_type": "display_data"
    }
   ],
   "source": [
    "display(np.ones(5, dtype=int))\n",
    "\n",
    "# display(np.ones(5, dtype=float))\n",
    "\n",
    "# display(np.ones(5, dtype=np.float64))\n",
    "\n",
    "# display(np.ones(5, dtype=str))"
   ]
  },
  {
   "cell_type": "markdown",
   "id": "b1d76dbc",
   "metadata": {
    "slideshow": {
     "slide_type": "subslide"
    }
   },
   "source": [
    "## Conversione tra tipi"
   ]
  },
  {
   "cell_type": "code",
   "execution_count": 10,
   "id": "0f2e91b9",
   "metadata": {
    "slideshow": {
     "slide_type": "fragment"
    }
   },
   "outputs": [
    {
     "data": {
      "text/plain": [
       "array([[1, 1, 1, 1, 1],\n",
       "       [1, 1, 1, 1, 1],\n",
       "       [1, 1, 1, 1, 1],\n",
       "       [1, 1, 1, 1, 1]])"
      ]
     },
     "execution_count": 10,
     "metadata": {},
     "output_type": "execute_result"
    }
   ],
   "source": [
    "arr = np.ones((4, 5), dtype=int)\n",
    "\n",
    "# arr = arr.astype(float)\n",
    "# arr = arr.astype('int32')\n",
    "\n",
    "arr"
   ]
  },
  {
   "cell_type": "markdown",
   "id": "c912fab7",
   "metadata": {
    "slideshow": {
     "slide_type": "subslide"
    }
   },
   "source": [
    "## Creazione array"
   ]
  },
  {
   "cell_type": "code",
   "execution_count": 11,
   "id": "4a653fc8",
   "metadata": {
    "slideshow": {
     "slide_type": "fragment"
    }
   },
   "outputs": [
    {
     "data": {
      "text/plain": [
       "array([0, 1, 2, 3, 4, 5, 6, 7, 8, 9])"
      ]
     },
     "execution_count": 11,
     "metadata": {},
     "output_type": "execute_result"
    }
   ],
   "source": [
    "length = 10\n",
    "\n",
    "np.array(range(length))\n",
    "\n",
    "# np.arange(length)\n",
    "\n",
    "# np.linspace(0, 18, length)"
   ]
  },
  {
   "cell_type": "code",
   "execution_count": 12,
   "id": "a5a27712",
   "metadata": {
    "slideshow": {
     "slide_type": "subslide"
    }
   },
   "outputs": [
    {
     "data": {
      "text/plain": [
       "array([[0., 0., 0., 0.],\n",
       "       [0., 0., 0., 0.],\n",
       "       [0., 0., 0., 0.]], dtype=float16)"
      ]
     },
     "execution_count": 12,
     "metadata": {},
     "output_type": "execute_result"
    }
   ],
   "source": [
    "shape = (3, 4)\n",
    "dtype = np.float16\n",
    "\n",
    "np.ones(shape, dtype=dtype)\n",
    "np.zeros(shape, dtype=dtype)"
   ]
  },
  {
   "cell_type": "code",
   "execution_count": 13,
   "id": "a709205f",
   "metadata": {
    "slideshow": {
     "slide_type": "subslide"
    }
   },
   "outputs": [
    {
     "data": {
      "text/plain": [
       "array([[1., 0., 0.],\n",
       "       [0., 1., 0.],\n",
       "       [0., 0., 1.]], dtype=float16)"
      ]
     },
     "execution_count": 13,
     "metadata": {},
     "output_type": "execute_result"
    }
   ],
   "source": [
    "shape = (3, 3)\n",
    "\n",
    "np.eye(3, dtype=dtype)"
   ]
  },
  {
   "cell_type": "markdown",
   "id": "0c781f2b",
   "metadata": {
    "slideshow": {
     "slide_type": "slide"
    }
   },
   "source": [
    "# Operazioni tra array"
   ]
  },
  {
   "cell_type": "markdown",
   "id": "15baffd2",
   "metadata": {
    "slideshow": {
     "slide_type": "subslide"
    }
   },
   "source": [
    "_Le classiche operazioni matematiche avvengono punto per punto_"
   ]
  },
  {
   "cell_type": "code",
   "execution_count": 14,
   "id": "b078c956",
   "metadata": {
    "slideshow": {
     "slide_type": "fragment"
    }
   },
   "outputs": [
    {
     "data": {
      "text/plain": [
       "array([[2., 2., 2., 2.],\n",
       "       [2., 2., 2., 2.],\n",
       "       [2., 2., 2., 2.]])"
      ]
     },
     "execution_count": 14,
     "metadata": {},
     "output_type": "execute_result"
    }
   ],
   "source": [
    "arr = np.ones((3, 4))\n",
    "arr + arr"
   ]
  },
  {
   "cell_type": "code",
   "execution_count": 15,
   "id": "c8b4b4db",
   "metadata": {
    "slideshow": {
     "slide_type": "fragment"
    }
   },
   "outputs": [
    {
     "data": {
      "text/plain": [
       "array([[False, False, False, False],\n",
       "       [False, False, False, False],\n",
       "       [False, False, False, False]])"
      ]
     },
     "execution_count": 15,
     "metadata": {},
     "output_type": "execute_result"
    }
   ],
   "source": [
    "arr == arr\n",
    "arr < arr"
   ]
  },
  {
   "cell_type": "code",
   "execution_count": 16,
   "id": "e6d206d1",
   "metadata": {
    "slideshow": {
     "slide_type": "fragment"
    }
   },
   "outputs": [
    {
     "data": {
      "text/plain": [
       "array([ True, False,  True])"
      ]
     },
     "execution_count": 16,
     "metadata": {},
     "output_type": "execute_result"
    }
   ],
   "source": [
    "arr = np.array([True, False, True])\n",
    "arr2 = np.array([True, True, True])\n",
    "\n",
    "arr & arr2\n",
    "# arr | arr\n",
    "# ~arr.astype(bool)"
   ]
  },
  {
   "cell_type": "markdown",
   "id": "7c565b79",
   "metadata": {
    "slideshow": {
     "slide_type": "subslide"
    }
   },
   "source": [
    "### Prodotto tra matrici"
   ]
  },
  {
   "cell_type": "code",
   "execution_count": 17,
   "id": "b419133e",
   "metadata": {},
   "outputs": [
    {
     "data": {
      "text/plain": [
       "array([[1., 1., 1.],\n",
       "       [1., 1., 1.],\n",
       "       [1., 1., 1.]])"
      ]
     },
     "execution_count": 17,
     "metadata": {},
     "output_type": "execute_result"
    }
   ],
   "source": [
    "A = np.eye(3)\n",
    "B = np.ones((3, 3))\n",
    "\n",
    "np.dot(A, B)\n",
    "# A.dot(B)\n",
    "# A @ B"
   ]
  },
  {
   "cell_type": "markdown",
   "id": "d1ebf2a2",
   "metadata": {
    "slideshow": {
     "slide_type": "subslide"
    }
   },
   "source": [
    "## Accedere agli elementi"
   ]
  },
  {
   "cell_type": "code",
   "execution_count": 18,
   "id": "823358c0",
   "metadata": {},
   "outputs": [
    {
     "data": {
      "text/plain": [
       "3"
      ]
     },
     "execution_count": 18,
     "metadata": {},
     "output_type": "execute_result"
    }
   ],
   "source": [
    "arr = np.arange(10)\n",
    "arr[3]"
   ]
  },
  {
   "cell_type": "code",
   "execution_count": 19,
   "id": "f687e22f",
   "metadata": {
    "slideshow": {
     "slide_type": "fragment"
    }
   },
   "outputs": [
    {
     "data": {
      "text/plain": [
       "array([[0, 1, 2],\n",
       "       [3, 4, 5],\n",
       "       [6, 7, 8]])"
      ]
     },
     "execution_count": 19,
     "metadata": {},
     "output_type": "execute_result"
    }
   ],
   "source": [
    "matrix = np.arange(9).reshape((3, 3))\n",
    "\n",
    "matrix\n",
    "# matrix[0][0]\n",
    "# matrix[0, 0]"
   ]
  },
  {
   "cell_type": "code",
   "execution_count": 20,
   "id": "d735e02d",
   "metadata": {
    "slideshow": {
     "slide_type": "subslide"
    }
   },
   "outputs": [
    {
     "data": {
      "image/png": "[encoded data removed]",
      "text/plain": [
       "<Figure size 640x480 with 1 Axes>"
      ]
     },
     "metadata": {},
     "output_type": "display_data"
    },
    {
     "data": {
      "text/plain": [
       "array([ 25,  18, 189])"
      ]
     },
     "execution_count": 20,
     "metadata": {},
     "output_type": "execute_result"
    }
   ],
   "source": [
    "rgb = np.random.randint(256, size=(10, 10, 3))\n",
    "\n",
    "from matplotlib import pyplot as plt\n",
    "plt.imshow(rgb, interpolation='nearest')\n",
    "plt.show()\n",
    "\n",
    "rgb[0, 0]"
   ]
  },
  {
   "cell_type": "markdown",
   "id": "1e10c2b3",
   "metadata": {
    "slideshow": {
     "slide_type": "subslide"
    }
   },
   "source": [
    "### Slicing"
   ]
  },
  {
   "cell_type": "code",
   "execution_count": 21,
   "id": "723fc742",
   "metadata": {
    "slideshow": {
     "slide_type": "fragment"
    }
   },
   "outputs": [
    {
     "data": {
      "text/plain": [
       "array([127., 127., 127.])"
      ]
     },
     "execution_count": 21,
     "metadata": {},
     "output_type": "execute_result"
    }
   ],
   "source": [
    "image = 127 * np.ones((10, 10, 3))\n",
    "\n",
    "image[0, 3, :]\n",
    "\n",
    "# image[:3, :3, :]\n",
    "\n",
    "# image[:, : , 0]"
   ]
  },
  {
   "cell_type": "markdown",
   "id": "f75456ca",
   "metadata": {
    "slideshow": {
     "slide_type": "subslide"
    }
   },
   "source": [
    "_Per effettuare una copia di uno **slice** bisogna utilizzare `.copy()`_"
   ]
  },
  {
   "cell_type": "code",
   "execution_count": 22,
   "id": "f1d87375",
   "metadata": {
    "slideshow": {
     "slide_type": "fragment"
    }
   },
   "outputs": [],
   "source": [
    "matrix = np.ones((5, 5))\n",
    "first_row = matrix[:, 0]\n",
    "# first_row = matrix[:, 0].copy()"
   ]
  },
  {
   "cell_type": "code",
   "execution_count": 23,
   "id": "9ef5b2e2",
   "metadata": {
    "scrolled": true,
    "slideshow": {
     "slide_type": "-"
    }
   },
   "outputs": [
    {
     "data": {
      "text/plain": [
       "array([[1., 1., 1., 1., 1.],\n",
       "       [1., 1., 1., 1., 1.],\n",
       "       [1., 1., 1., 1., 1.],\n",
       "       [1., 1., 1., 1., 1.],\n",
       "       [1., 1., 1., 1., 1.]])"
      ]
     },
     "metadata": {},
     "output_type": "display_data"
    },
    {
     "data": {
      "text/plain": [
       "array([1., 1., 1., 1., 1.])"
      ]
     },
     "metadata": {},
     "output_type": "display_data"
    }
   ],
   "source": [
    "display(matrix)\n",
    "display(first_row)"
   ]
  },
  {
   "cell_type": "code",
   "execution_count": 24,
   "id": "ffcc8051",
   "metadata": {
    "slideshow": {
     "slide_type": "fragment"
    }
   },
   "outputs": [],
   "source": [
    "first_row[2] = 25"
   ]
  },
  {
   "cell_type": "markdown",
   "id": "67f4f2ca",
   "metadata": {
    "slideshow": {
     "slide_type": "subslide"
    }
   },
   "source": [
    "### Slicing indexing"
   ]
  },
  {
   "cell_type": "code",
   "execution_count": 25,
   "id": "f5951615",
   "metadata": {
    "slideshow": {
     "slide_type": "-"
    }
   },
   "outputs": [
    {
     "data": {
      "text/plain": [
       "array([3, 4, 5])"
      ]
     },
     "execution_count": 25,
     "metadata": {},
     "output_type": "execute_result"
    }
   ],
   "source": [
    "arr = np.arange(20)\n",
    "arr[3:6]"
   ]
  },
  {
   "cell_type": "code",
   "execution_count": 26,
   "id": "b60b5082",
   "metadata": {
    "slideshow": {
     "slide_type": "-"
    }
   },
   "outputs": [
    {
     "data": {
      "text/plain": [
       "array([[ 0,  1,  2,  3],\n",
       "       [ 4,  5,  6,  7],\n",
       "       [ 8,  9, 10, 11],\n",
       "       [12, 13, 14, 15]])"
      ]
     },
     "metadata": {},
     "output_type": "display_data"
    },
    {
     "data": {
      "text/plain": [
       "array([[1, 2, 3],\n",
       "       [5, 6, 7]])"
      ]
     },
     "execution_count": 26,
     "metadata": {},
     "output_type": "execute_result"
    }
   ],
   "source": [
    "matrix = np.arange(16).reshape(4, 4)\n",
    "display(matrix)\n",
    "matrix[:2, 1:4]"
   ]
  },
  {
   "cell_type": "code",
   "execution_count": 27,
   "id": "d80baedf",
   "metadata": {
    "slideshow": {
     "slide_type": "subslide"
    }
   },
   "outputs": [
    {
     "name": "stdout",
     "output_type": "stream",
     "text": [
      "0 2 4 6 8 "
     ]
    },
    {
     "data": {
      "text/plain": [
       "array([0, 2, 4, 6, 8])"
      ]
     },
     "execution_count": 27,
     "metadata": {},
     "output_type": "execute_result"
    }
   ],
   "source": [
    "arr = np.arange(20)\n",
    "\n",
    "for i in range(0, 10, 2):\n",
    "    print(arr[i], end=\" \")\n",
    "\n",
    "arr[0:10:2]"
   ]
  },
  {
   "cell_type": "markdown",
   "id": "48077e58",
   "metadata": {
    "slideshow": {
     "slide_type": "subslide"
    }
   },
   "source": [
    "### Bolean indexing o maschere"
   ]
  },
  {
   "cell_type": "code",
   "execution_count": 28,
   "id": "95c42bd1",
   "metadata": {
    "slideshow": {
     "slide_type": "-"
    }
   },
   "outputs": [
    {
     "name": "stdout",
     "output_type": "stream",
     "text": [
      "[[ 0  1  2  3]\n",
      " [ 4  5  6  7]\n",
      " [ 8  9 10 11]\n",
      " [12 13 14 15]]\n"
     ]
    },
    {
     "data": {
      "text/plain": [
       "array([ 0,  2,  3,  4,  5,  7,  8,  9, 10, 13, 14, 15])"
      ]
     },
     "execution_count": 28,
     "metadata": {},
     "output_type": "execute_result"
    }
   ],
   "source": [
    "matrix = np.arange(16).reshape(4, 4)\n",
    "\n",
    "indices = [\n",
    "    [True, False, True, True],\n",
    "    [True, True, False, True],\n",
    "    [True, True, True, False],\n",
    "    [False, True, True, True],\n",
    "]\n",
    "print(matrix)\n",
    "matrix[indices]"
   ]
  },
  {
   "cell_type": "code",
   "execution_count": 29,
   "id": "fbc3cafa",
   "metadata": {
    "slideshow": {
     "slide_type": "subslide"
    }
   },
   "outputs": [],
   "source": [
    "image = np.random.randint(256, size=(10, 10, 1))"
   ]
  },
  {
   "cell_type": "code",
   "execution_count": 30,
   "id": "770c1006",
   "metadata": {
    "slideshow": {
     "slide_type": "fragment"
    }
   },
   "outputs": [
    {
     "data": {
      "image/png": "[encoded data removed]",
      "text/plain": [
       "<Figure size 640x480 with 2 Axes>"
      ]
     },
     "metadata": {},
     "output_type": "display_data"
    }
   ],
   "source": [
    "from matplotlib import pyplot as plt\n",
    "plt.imshow(image, interpolation='nearest')\n",
    "plt.colorbar(); plt.show();"
   ]
  },
  {
   "cell_type": "code",
   "execution_count": 31,
   "id": "fae9ee9d",
   "metadata": {
    "slideshow": {
     "slide_type": "fragment"
    }
   },
   "outputs": [
    {
     "data": {
      "text/plain": [
       "array([[False, False,  True,  True, False],\n",
       "       [False, False,  True, False,  True],\n",
       "       [ True, False,  True, False,  True],\n",
       "       [ True, False, False,  True, False],\n",
       "       [ True,  True,  True, False, False]])"
      ]
     },
     "metadata": {},
     "output_type": "display_data"
    }
   ],
   "source": [
    "display((image > 128)[:5, :5, 0])\n",
    "image[image > 128] = 0"
   ]
  },
  {
   "cell_type": "markdown",
   "id": "d28e306e",
   "metadata": {
    "slideshow": {
     "slide_type": "subslide"
    }
   },
   "source": [
    "### Fancy indexing"
   ]
  },
  {
   "cell_type": "code",
   "execution_count": 32,
   "id": "3789733c",
   "metadata": {
    "scrolled": false
   },
   "outputs": [
    {
     "data": {
      "text/plain": [
       "array([[ 0,  1,  2,  3],\n",
       "       [ 4,  5,  6,  7],\n",
       "       [ 8,  9, 10, 11],\n",
       "       [12, 13, 14, 15]])"
      ]
     },
     "metadata": {},
     "output_type": "display_data"
    },
    {
     "data": {
      "text/plain": [
       "array([[ 0,  2,  1,  3],\n",
       "       [ 4,  6,  5,  7],\n",
       "       [ 8, 10,  9, 11],\n",
       "       [12, 14, 13, 15]])"
      ]
     },
     "execution_count": 32,
     "metadata": {},
     "output_type": "execute_result"
    }
   ],
   "source": [
    "matrix = np.arange(16).reshape(4, 4)\n",
    "display(matrix)\n",
    "\n",
    "matrix[:, [0, 2, 1, 3]]"
   ]
  },
  {
   "cell_type": "markdown",
   "id": "0db76fe8",
   "metadata": {
    "slideshow": {
     "slide_type": "subslide"
    }
   },
   "source": [
    "### Trasposta di un vettore/matrice"
   ]
  },
  {
   "cell_type": "code",
   "execution_count": 33,
   "id": "69ac3eb9",
   "metadata": {
    "slideshow": {
     "slide_type": "fragment"
    }
   },
   "outputs": [
    {
     "data": {
      "text/plain": [
       "array([[[ 0,  1,  2],\n",
       "        [ 3,  4,  5],\n",
       "        [ 6,  7,  8]],\n",
       "\n",
       "       [[ 9, 10, 11],\n",
       "        [12, 13, 14],\n",
       "        [15, 16, 17]],\n",
       "\n",
       "       [[18, 19, 20],\n",
       "        [21, 22, 23],\n",
       "        [24, 25, 26]]])"
      ]
     },
     "metadata": {},
     "output_type": "display_data"
    },
    {
     "data": {
      "text/plain": [
       "array([[[ 0,  9, 18],\n",
       "        [ 3, 12, 21],\n",
       "        [ 6, 15, 24]],\n",
       "\n",
       "       [[ 1, 10, 19],\n",
       "        [ 4, 13, 22],\n",
       "        [ 7, 16, 25]],\n",
       "\n",
       "       [[ 2, 11, 20],\n",
       "        [ 5, 14, 23],\n",
       "        [ 8, 17, 26]]])"
      ]
     },
     "execution_count": 33,
     "metadata": {},
     "output_type": "execute_result"
    }
   ],
   "source": [
    "matrix = np.arange(27).reshape(3, 3, 3)\n",
    "\n",
    "display(matrix)\n",
    "\n",
    "matrix.T\n",
    "\n",
    "# matrix.transpose(1, 0, 2)\n",
    "\n",
    "# matrix.swapaxes(1, 0)"
   ]
  },
  {
   "cell_type": "markdown",
   "id": "afa62fd4",
   "metadata": {
    "slideshow": {
     "slide_type": "slide"
    }
   },
   "source": [
    "## Funzioni"
   ]
  },
  {
   "cell_type": "markdown",
   "id": "229c01bc",
   "metadata": {
    "slideshow": {
     "slide_type": "subslide"
    }
   },
   "source": [
    "### Unary function"
   ]
  },
  {
   "cell_type": "code",
   "execution_count": 34,
   "id": "da552a23",
   "metadata": {
    "slideshow": {
     "slide_type": "subslide"
    }
   },
   "outputs": [
    {
     "name": "stdout",
     "output_type": "stream",
     "text": [
      "np.absolute:\t3.0\t2.5\t2.0\t1.5\t1.0\t0.5\t0.0\t0.5\t1.0\t1.5\t2.0\t2.5\t3.0\n",
      "\n",
      "np.sign:\t-1.0\t-1.0\t-1.0\t-1.0\t-1.0\t-1.0\t0.0\t1.0\t1.0\t1.0\t1.0\t1.0\t1.0\n",
      "\n",
      "np.square:\t9.0\t6.25\t4.0\t2.25\t1.0\t0.25\t0.0\t0.25\t1.0\t2.25\t4.0\t6.25\t9.0\n",
      "\n",
      "np.ceil:\t-3.0\t-2.0\t-2.0\t-1.0\t-1.0\t-0.0\t0.0\t1.0\t1.0\t2.0\t2.0\t3.0\t3.0\n",
      "\n",
      "np.floor:\t-3.0\t-3.0\t-2.0\t-2.0\t-1.0\t-1.0\t0.0\t0.0\t1.0\t1.0\t2.0\t2.0\t3.0\n",
      "\n"
     ]
    }
   ],
   "source": [
    "x = np.linspace(-3, 3, 13, dtype=np.float16)\n",
    "\n",
    "for op in (np.abs, np.sign, np.square, np.ceil, np.floor):\n",
    "    print(f\"np.{op.__name__}:\", *op(x), sep=\"\\t\")\n",
    "    print()\n",
    "\n",
    "# np.square(x)"
   ]
  },
  {
   "cell_type": "code",
   "execution_count": 35,
   "id": "ab90e2de",
   "metadata": {
    "slideshow": {
     "slide_type": "subslide"
    }
   },
   "outputs": [
    {
     "data": {
      "image/png": "[encoded data removed]",
      "text/plain": [
       "<Figure size 640x480 with 1 Axes>"
      ]
     },
     "metadata": {},
     "output_type": "display_data"
    }
   ],
   "source": [
    "import numpy as np\n",
    "import matplotlib.pyplot as plt\n",
    "\n",
    "x = np.linspace(0, 6 * np.pi, 10000)\n",
    "y = np.cos(x)\n",
    "\n",
    "plt.plot(x, y);"
   ]
  },
  {
   "cell_type": "markdown",
   "id": "131e2e5c",
   "metadata": {
    "slideshow": {
     "slide_type": "subslide"
    }
   },
   "source": [
    "### Binary function"
   ]
  },
  {
   "cell_type": "code",
   "execution_count": 36,
   "id": "50f99326",
   "metadata": {
    "slideshow": {
     "slide_type": "fragment"
    }
   },
   "outputs": [
    {
     "data": {
      "text/plain": [
       "array([2., 2., 2., 2.])"
      ]
     },
     "execution_count": 36,
     "metadata": {},
     "output_type": "execute_result"
    }
   ],
   "source": [
    "x1 = np.ones(4)\n",
    "x2 = np.ones_like(x1)\n",
    "np.add(x1, x2)"
   ]
  },
  {
   "cell_type": "code",
   "execution_count": 37,
   "id": "af260b79",
   "metadata": {
    "slideshow": {
     "slide_type": "fragment"
    }
   },
   "outputs": [
    {
     "data": {
      "text/plain": [
       "array([0.        , 0.01234568, 0.04938272, 0.33333333, 0.19753086,\n",
       "       0.17146776, 1.        , 1.        , 0.88888889, 1.        ])"
      ]
     },
     "execution_count": 37,
     "metadata": {},
     "output_type": "execute_result"
    }
   ],
   "source": [
    "x = np.linspace(0, 1, 10)\n",
    "y = np.array([1, 2, 2, 1, 2, 3, 0, 0, 1, 1])\n",
    "\n",
    "np.power(x, y)"
   ]
  },
  {
   "cell_type": "markdown",
   "id": "ea21a1d8",
   "metadata": {
    "slideshow": {
     "slide_type": "subslide"
    }
   },
   "source": [
    "$y = 3\\cdot e^{cos(x)}$"
   ]
  },
  {
   "cell_type": "code",
   "execution_count": 38,
   "id": "66340648",
   "metadata": {
    "slideshow": {
     "slide_type": "fragment"
    }
   },
   "outputs": [],
   "source": [
    "x = np.linspace(-20, 20, 1000)\n",
    "\n",
    "y = 3 * np.power(np.e, np.cos(x))"
   ]
  },
  {
   "cell_type": "code",
   "execution_count": 39,
   "id": "07e79460",
   "metadata": {
    "slideshow": {
     "slide_type": "fragment"
    }
   },
   "outputs": [
    {
     "data": {
      "image/png": "[encoded data removed]",
      "text/plain": [
       "<Figure size 640x480 with 1 Axes>"
      ]
     },
     "metadata": {},
     "output_type": "display_data"
    }
   ],
   "source": [
    "plt.plot(x, y);"
   ]
  },
  {
   "cell_type": "markdown",
   "id": "73c2ab39",
   "metadata": {
    "slideshow": {
     "slide_type": "slide"
    }
   },
   "source": [
    "## Programmazione vettoriale"
   ]
  },
  {
   "cell_type": "code",
   "execution_count": 40,
   "id": "9116a9e0",
   "metadata": {
    "slideshow": {
     "slide_type": "subslide"
    }
   },
   "outputs": [
    {
     "data": {
      "text/plain": [
       "array([0, 0, 0, 0, 0, 0, 0, 0, 0, 0, 0, 0, 0, 0, 0, 0, 0, 0, 0, 0])"
      ]
     },
     "execution_count": 40,
     "metadata": {},
     "output_type": "execute_result"
    }
   ],
   "source": [
    "np.sum(arr)\n",
    "np.mean(arr)\n",
    "np.std(arr)\n",
    "np.min(arr)\n",
    "np.max(arr)\n",
    "np.argmin(arr)\n",
    "np.argmax(arr)\n",
    "np.cumsum(arr)\n",
    "np.cumprod(arr)"
   ]
  },
  {
   "cell_type": "code",
   "execution_count": 41,
   "id": "5fb9c9e3",
   "metadata": {
    "slideshow": {
     "slide_type": "fragment"
    }
   },
   "outputs": [
    {
     "data": {
      "text/plain": [
       "19"
      ]
     },
     "execution_count": 41,
     "metadata": {},
     "output_type": "execute_result"
    }
   ],
   "source": [
    "arr.sum()\n",
    "arr.min()\n",
    "arr.argmax()"
   ]
  },
  {
   "cell_type": "markdown",
   "id": "c72da1c9",
   "metadata": {
    "slideshow": {
     "slide_type": "subslide"
    }
   },
   "source": [
    "## metodi booleani"
   ]
  },
  {
   "cell_type": "code",
   "execution_count": 42,
   "id": "09975b08",
   "metadata": {
    "slideshow": {
     "slide_type": "fragment"
    }
   },
   "outputs": [
    {
     "data": {
      "text/plain": [
       "False"
      ]
     },
     "execution_count": 42,
     "metadata": {},
     "output_type": "execute_result"
    }
   ],
   "source": [
    "arr.any()\n",
    "\n",
    "arr.all()"
   ]
  },
  {
   "cell_type": "code",
   "execution_count": 43,
   "id": "5054b87f",
   "metadata": {
    "slideshow": {
     "slide_type": "subslide"
    }
   },
   "outputs": [
    {
     "data": {
      "text/plain": [
       "array([[-2.17957164, -0.85757706, -1.84037223, -0.4450542 ],\n",
       "       [ 0.10781429, -0.62341768, -0.82502639, -0.27801194],\n",
       "       [ 0.21210852,  0.2427322 ,  0.10503219,  0.07691322],\n",
       "       [ 0.83057439,  0.89818026,  0.55485186,  0.31354927]])"
      ]
     },
     "execution_count": 43,
     "metadata": {},
     "output_type": "execute_result"
    }
   ],
   "source": [
    "arr = np.random.normal(size=(4, 4))\n",
    "\n",
    "# arr.sort()\n",
    "arr.sort(0)\n",
    "\n",
    "arr"
   ]
  },
  {
   "cell_type": "code",
   "execution_count": 44,
   "id": "f8294750",
   "metadata": {
    "slideshow": {
     "slide_type": "subslide"
    }
   },
   "outputs": [
    {
     "data": {
      "text/plain": [
       "array([1, 4, 5])"
      ]
     },
     "execution_count": 44,
     "metadata": {},
     "output_type": "execute_result"
    }
   ],
   "source": [
    "x = np.array([1, 2, 3, 4, 5])\n",
    "y = np.array([2, 2, 3])\n",
    "\n",
    "np.unique(x)\n",
    "np.intersect1d(x, y)\n",
    "np.union1d(x, y)\n",
    "np.in1d(x, y)\n",
    "np.setdiff1d(x, y)\n",
    "np.setxor1d(x, y)"
   ]
  },
  {
   "cell_type": "markdown",
   "id": "e1af03ce",
   "metadata": {
    "slideshow": {
     "slide_type": "slide"
    }
   },
   "source": [
    "## Algebra Lineare (numpy.linalg)"
   ]
  },
  {
   "cell_type": "code",
   "execution_count": 45,
   "id": "0cf95555",
   "metadata": {
    "slideshow": {
     "slide_type": "subslide"
    }
   },
   "outputs": [],
   "source": [
    "m = np.random.random((3, 3))\n",
    "\n",
    "np.diag(m)\n",
    "np.linalg.det(m)\n",
    "np.linalg.inv(m)\n",
    "\n",
    "q, r = np.linalg.qr(m)\n",
    "x = np.linalg.solve(m, [1, 2, 3])"
   ]
  },
  {
   "cell_type": "markdown",
   "id": "244333dd",
   "metadata": {
    "slideshow": {
     "slide_type": "slide"
    }
   },
   "source": [
    "## Numeri pseudocasuali"
   ]
  },
  {
   "cell_type": "code",
   "execution_count": 46,
   "id": "f196ef04",
   "metadata": {
    "slideshow": {
     "slide_type": "fragment"
    }
   },
   "outputs": [
    {
     "data": {
      "text/plain": [
       "<matplotlib.collections.PathCollection at 0x7f94dce9a320>"
      ]
     },
     "execution_count": 46,
     "metadata": {},
     "output_type": "execute_result"
    },
    {
     "data": {
      "image/png": "[encoded data removed]",
      "text/plain": [
       "<Figure size 640x480 with 1 Axes>"
      ]
     },
     "metadata": {},
     "output_type": "display_data"
    }
   ],
   "source": [
    "points = np.random.random((2, 1000))\n",
    "points = np.random.normal(size=(2, 1000))\n",
    "\n",
    "plt.scatter(points[0, :], points[1, :])\n",
    "# plt.hist(points[0], bins=20)"
   ]
  },
  {
   "cell_type": "code",
   "execution_count": 47,
   "id": "22c7fe92",
   "metadata": {
    "slideshow": {
     "slide_type": "subslide"
    }
   },
   "outputs": [],
   "source": [
    "import pandas as pd\n",
    "from pandas import DataFrame as df"
   ]
  },
  {
   "cell_type": "code",
   "execution_count": 48,
   "id": "d802eab1",
   "metadata": {
    "slideshow": {
     "slide_type": "fragment"
    }
   },
   "outputs": [
    {
     "data": {
      "text/html": [
       "<div>\n",
       "<style scoped>\n",
       "    .dataframe tbody tr th:only-of-type {\n",
       "        vertical-align: middle;\n",
       "    }\n",
       "\n",
       "    .dataframe tbody tr th {\n",
       "        vertical-align: top;\n",
       "    }\n",
       "\n",
       "    .dataframe thead th {\n",
       "        text-align: right;\n",
       "    }\n",
       "</style>\n",
       "<table border=\"1\" class=\"dataframe\">\n",
       "  <thead>\n",
       "    <tr style=\"text-align: right;\">\n",
       "      <th></th>\n",
       "      <th>x</th>\n",
       "      <th>y</th>\n",
       "    </tr>\n",
       "  </thead>\n",
       "  <tbody>\n",
       "    <tr>\n",
       "      <th>0</th>\n",
       "      <td>-1.484706</td>\n",
       "      <td>0.817177</td>\n",
       "    </tr>\n",
       "    <tr>\n",
       "      <th>1</th>\n",
       "      <td>-1.265441</td>\n",
       "      <td>1.596789</td>\n",
       "    </tr>\n",
       "    <tr>\n",
       "      <th>2</th>\n",
       "      <td>0.291217</td>\n",
       "      <td>0.306203</td>\n",
       "    </tr>\n",
       "    <tr>\n",
       "      <th>3</th>\n",
       "      <td>-0.180217</td>\n",
       "      <td>-0.035514</td>\n",
       "    </tr>\n",
       "    <tr>\n",
       "      <th>4</th>\n",
       "      <td>-1.851551</td>\n",
       "      <td>0.816946</td>\n",
       "    </tr>\n",
       "    <tr>\n",
       "      <th>...</th>\n",
       "      <td>...</td>\n",
       "      <td>...</td>\n",
       "    </tr>\n",
       "    <tr>\n",
       "      <th>995</th>\n",
       "      <td>-0.327254</td>\n",
       "      <td>-1.252947</td>\n",
       "    </tr>\n",
       "    <tr>\n",
       "      <th>996</th>\n",
       "      <td>0.925869</td>\n",
       "      <td>0.786583</td>\n",
       "    </tr>\n",
       "    <tr>\n",
       "      <th>997</th>\n",
       "      <td>1.697614</td>\n",
       "      <td>0.542105</td>\n",
       "    </tr>\n",
       "    <tr>\n",
       "      <th>998</th>\n",
       "      <td>-0.858954</td>\n",
       "      <td>-0.558204</td>\n",
       "    </tr>\n",
       "    <tr>\n",
       "      <th>999</th>\n",
       "      <td>1.249924</td>\n",
       "      <td>-0.995663</td>\n",
       "    </tr>\n",
       "  </tbody>\n",
       "</table>\n",
       "<p>1000 rows × 2 columns</p>\n",
       "</div>"
      ],
      "text/plain": [
       "            x         y\n",
       "0   -1.484706  0.817177\n",
       "1   -1.265441  1.596789\n",
       "2    0.291217  0.306203\n",
       "3   -0.180217 -0.035514\n",
       "4   -1.851551  0.816946\n",
       "..        ...       ...\n",
       "995 -0.327254 -1.252947\n",
       "996  0.925869  0.786583\n",
       "997  1.697614  0.542105\n",
       "998 -0.858954 -0.558204\n",
       "999  1.249924 -0.995663\n",
       "\n",
       "[1000 rows x 2 columns]"
      ]
     },
     "execution_count": 48,
     "metadata": {},
     "output_type": "execute_result"
    }
   ],
   "source": [
    "df(points.T, columns=(\"x\", \"y\"))"
   ]
  }
 ],
 "metadata": {
  "celltoolbar": "Slideshow",
  "kernelspec": {
   "display_name": "Python 3 (ipykernel)",
   "language": "python",
   "name": "python3"
  },
  "language_info": {
   "codemirror_mode": {
    "name": "ipython",
    "version": 3
   },
   "file_extension": ".py",
   "mimetype": "text/x-python",
   "name": "python",
   "nbconvert_exporter": "python",
   "pygments_lexer": "ipython3",
   "version": "3.10.8"
  },
  "rise": {
   "theme": "night"
  }
 },
 "nbformat": 4,
 "nbformat_minor": 5
}
