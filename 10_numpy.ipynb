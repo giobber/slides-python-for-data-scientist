{
 "cells": [
  {
   "cell_type": "code",
   "execution_count": null,
   "id": "c2878ab2",
   "metadata": {
    "slideshow": {
     "slide_type": "skip"
    }
   },
   "outputs": [],
   "source": [
    "%%HTML\n",
    "<link rel=\"stylesheet\" type=\"text/css\" href=\"rise.css\">"
   ]
  },
  {
   "cell_type": "markdown",
   "id": "6ed6a02e",
   "metadata": {
    "slideshow": {
     "slide_type": "slide"
    }
   },
   "source": [
    "# Python for Data Scientist\n",
    "## From data manipulation to machine learning"
   ]
  },
  {
   "cell_type": "markdown",
   "id": "501ac845",
   "metadata": {
    "slideshow": {
     "slide_type": "slide"
    }
   },
   "source": [
    "# NumPy\n",
    "## https://numpy.org/"
   ]
  },
  {
   "cell_type": "markdown",
   "id": "05d88bdb",
   "metadata": {
    "slideshow": {
     "slide_type": "subslide"
    }
   },
   "source": [
    "**NumPy** (**Num**erical **Py**thon)\n",
    "\n",
    "Libreria per il calcolo numerico in Python"
   ]
  },
  {
   "cell_type": "markdown",
   "id": "d3884ee3",
   "metadata": {
    "slideshow": {
     "slide_type": "subslide"
    }
   },
   "source": [
    "<div class=\"gallery\">\n",
    "    <img src=images/pandas-logo.png style=\"max-width: 30%\">\n",
    "    <img src=images/pytorch-logo.png style=\"max-width: 30%\">\n",
    "    <img src=images/pillow-logo.png style=\"max-width: 30%\">\n",
    "</div>"
   ]
  },
  {
   "cell_type": "code",
   "execution_count": null,
   "id": "bde68f9a",
   "metadata": {
    "slideshow": {
     "slide_type": "subslide"
    }
   },
   "outputs": [],
   "source": [
    "import numpy as np\n",
    "\n",
    "np.version.version"
   ]
  },
  {
   "cell_type": "markdown",
   "id": "dd758142",
   "metadata": {
    "slideshow": {
     "slide_type": "subslide"
    }
   },
   "source": [
    "* Struttura dati efficiente (_ndarray_)\n",
    "* operazioni di calcolo su array\n",
    "* algebra lineare, numeri random\n",
    "* Efficienza di C/FORTRAN"
   ]
  },
  {
   "cell_type": "markdown",
   "id": "430e926c",
   "metadata": {
    "slideshow": {
     "slide_type": "slide"
    }
   },
   "source": [
    "# ndarray"
   ]
  },
  {
   "cell_type": "markdown",
   "id": "572ec72b",
   "metadata": {
    "slideshow": {
     "slide_type": "subslide"
    }
   },
   "source": [
    "* dati omogenei\n",
    "* array vs liste\n",
    "* efficienti"
   ]
  },
  {
   "cell_type": "markdown",
   "id": "3f93938e",
   "metadata": {
    "slideshow": {
     "slide_type": "subslide"
    }
   },
   "source": [
    "<img src=images/ndarray/array.svg class=\"center\" />"
   ]
  },
  {
   "cell_type": "markdown",
   "id": "cd8fa3cf",
   "metadata": {
    "slideshow": {
     "slide_type": "fragment"
    }
   },
   "source": [
    "<img src=images/ndarray/list.svg class=\"center\" />"
   ]
  },
  {
   "cell_type": "code",
   "execution_count": null,
   "id": "bc484c73",
   "metadata": {
    "slideshow": {
     "slide_type": "subslide"
    }
   },
   "outputs": [],
   "source": [
    "# Una lista può contenere dati omogenei\n",
    "list_a = [1, 2, 3, 4, 5]\n",
    "\n",
    "# oppure no\n",
    "list_b = [1, \"2\", range(3), 5.236, 5]\n",
    "\n",
    "# Meglio le tuple\n",
    "tuple_b = (1, \"2\", range(3), 5.236, 5)"
   ]
  },
  {
   "cell_type": "code",
   "execution_count": null,
   "id": "089ad4f6",
   "metadata": {
    "slideshow": {
     "slide_type": "fragment"
    }
   },
   "outputs": [],
   "source": [
    "np.array([1, 2, 3, 4, 5])\n",
    "\n",
    "# np.array([1, 2, \"1\"])"
   ]
  },
  {
   "cell_type": "markdown",
   "id": "a9ca9442",
   "metadata": {
    "slideshow": {
     "slide_type": "subslide"
    }
   },
   "source": [
    "## Efficienza"
   ]
  },
  {
   "cell_type": "code",
   "execution_count": null,
   "id": "75acbd0d",
   "metadata": {
    "slideshow": {
     "slide_type": "fragment"
    }
   },
   "outputs": [],
   "source": [
    "my_arr = np.arange(10**6)\n",
    "\n",
    "my_list = list(range(10**6))"
   ]
  },
  {
   "cell_type": "code",
   "execution_count": null,
   "id": "4813a222",
   "metadata": {
    "slideshow": {
     "slide_type": "fragment"
    }
   },
   "outputs": [],
   "source": [
    "%time for _ in range(10): result = my_arr * 2 "
   ]
  },
  {
   "cell_type": "code",
   "execution_count": null,
   "id": "8091cddb",
   "metadata": {
    "slideshow": {
     "slide_type": "fragment"
    }
   },
   "outputs": [],
   "source": [
    "%time for _ in range(10): result = [x*2 for x in my_list]"
   ]
  },
  {
   "cell_type": "markdown",
   "id": "fcf2c90d",
   "metadata": {
    "slideshow": {
     "slide_type": "subslide"
    }
   },
   "source": [
    "## shape\n",
    "\n",
    "**tupla**, indica la misura di ogni dimensione"
   ]
  },
  {
   "cell_type": "markdown",
   "id": "9f7e34cf",
   "metadata": {
    "slideshow": {
     "slide_type": "fragment"
    }
   },
   "source": [
    "<div class=\"gallery\">\n",
    "    <img src=images/ndarray/array.svg width=30% />\n",
    "    <img src=images/ndarray/matrix.svg width=30% />\n",
    "    <img src=images/ndarray/pexels-miguel-á-padriñán-19677.jpg width=30%>\n",
    "</div>\n",
    "<div class=\"gallery\">\n",
    "    <div style=\"width: 30%\">(5,)</div>\n",
    "    <div style=\"width: 30%\">(5, 5)</div>\n",
    "    <div style=\"width: 30%\">(3, 3, 3)</div>\n",
    "</div>"
   ]
  },
  {
   "cell_type": "code",
   "execution_count": null,
   "id": "32089179",
   "metadata": {
    "slideshow": {
     "slide_type": "subslide"
    }
   },
   "outputs": [],
   "source": [
    "np.arange(15)\n",
    "\n",
    "# np.random.randint(10, size=15)"
   ]
  },
  {
   "cell_type": "code",
   "execution_count": null,
   "id": "1719a5cd",
   "metadata": {
    "slideshow": {
     "slide_type": "fragment"
    }
   },
   "outputs": [],
   "source": [
    "np.random.randint(0, 10, size=(3, 3))"
   ]
  },
  {
   "cell_type": "markdown",
   "id": "b6d88735",
   "metadata": {
    "slideshow": {
     "slide_type": "subslide"
    }
   },
   "source": [
    "## dtype\n",
    "\n",
    "Descrive il tipo di dato dell'array"
   ]
  },
  {
   "cell_type": "markdown",
   "id": "4ef0ac5b",
   "metadata": {
    "slideshow": {
     "slide_type": "fragment"
    }
   },
   "source": [
    "* **int**(8, 16, 32, 64)\n",
    "* **uint**(8, 16, 32, 64)\n",
    "* **float**(16, 32, 64, 128)\n",
    "* **complex**(64, 128, 265)\n",
    "* bool, object, string_, unicode_"
   ]
  },
  {
   "cell_type": "code",
   "execution_count": null,
   "id": "8c628f38",
   "metadata": {
    "slideshow": {
     "slide_type": "subslide"
    }
   },
   "outputs": [],
   "source": [
    "display(np.ones(5, dtype=int))\n",
    "\n",
    "# display(np.ones(5, dtype=float))\n",
    "\n",
    "# display(np.ones(5, dtype=np.float64))\n",
    "\n",
    "# display(np.ones(5, dtype=str))"
   ]
  },
  {
   "cell_type": "markdown",
   "id": "b1d76dbc",
   "metadata": {
    "slideshow": {
     "slide_type": "subslide"
    }
   },
   "source": [
    "## Conversione tra tipi"
   ]
  },
  {
   "cell_type": "code",
   "execution_count": null,
   "id": "0f2e91b9",
   "metadata": {
    "slideshow": {
     "slide_type": "fragment"
    }
   },
   "outputs": [],
   "source": [
    "arr = np.ones((4, 5), dtype=int)\n",
    "\n",
    "# arr = arr.astype(float)\n",
    "# arr = arr.astype('int32')\n",
    "\n",
    "arr"
   ]
  },
  {
   "cell_type": "markdown",
   "id": "c912fab7",
   "metadata": {
    "slideshow": {
     "slide_type": "subslide"
    }
   },
   "source": [
    "## Creazione array"
   ]
  },
  {
   "cell_type": "code",
   "execution_count": null,
   "id": "4a653fc8",
   "metadata": {
    "slideshow": {
     "slide_type": "fragment"
    }
   },
   "outputs": [],
   "source": [
    "length = 10\n",
    "\n",
    "np.array(range(length))\n",
    "\n",
    "# np.arange(length)\n",
    "\n",
    "# np.linspace(0, 18, length)"
   ]
  },
  {
   "cell_type": "code",
   "execution_count": null,
   "id": "a5a27712",
   "metadata": {
    "slideshow": {
     "slide_type": "subslide"
    }
   },
   "outputs": [],
   "source": [
    "shape = (3, 4)\n",
    "dtype = np.float16\n",
    "\n",
    "np.ones(shape, dtype=dtype)\n",
    "np.zeros(shape, dtype=dtype)"
   ]
  },
  {
   "cell_type": "code",
   "execution_count": null,
   "id": "a709205f",
   "metadata": {
    "slideshow": {
     "slide_type": "subslide"
    }
   },
   "outputs": [],
   "source": [
    "shape = (3, 3)\n",
    "\n",
    "np.eye(3, dtype=dtype)"
   ]
  },
  {
   "cell_type": "markdown",
   "id": "0c781f2b",
   "metadata": {
    "slideshow": {
     "slide_type": "slide"
    }
   },
   "source": [
    "# Operazioni tra array"
   ]
  },
  {
   "cell_type": "markdown",
   "id": "15baffd2",
   "metadata": {
    "slideshow": {
     "slide_type": "subslide"
    }
   },
   "source": [
    "_Le classiche operazioni matematiche avvengono punto per punto_"
   ]
  },
  {
   "cell_type": "code",
   "execution_count": null,
   "id": "b078c956",
   "metadata": {
    "slideshow": {
     "slide_type": "fragment"
    }
   },
   "outputs": [],
   "source": [
    "arr = np.ones((3, 4))\n",
    "arr + arr"
   ]
  },
  {
   "cell_type": "code",
   "execution_count": null,
   "id": "c8b4b4db",
   "metadata": {
    "slideshow": {
     "slide_type": "fragment"
    }
   },
   "outputs": [],
   "source": [
    "arr == arr\n",
    "arr < arr"
   ]
  },
  {
   "cell_type": "code",
   "execution_count": null,
   "id": "e6d206d1",
   "metadata": {
    "slideshow": {
     "slide_type": "fragment"
    }
   },
   "outputs": [],
   "source": [
    "arr = np.array([True, False, True])\n",
    "arr2 = np.array([True, True, True])\n",
    "\n",
    "arr & arr2\n",
    "# arr | arr\n",
    "# ~arr.astype(bool)"
   ]
  },
  {
   "cell_type": "markdown",
   "id": "7c565b79",
   "metadata": {
    "slideshow": {
     "slide_type": "subslide"
    }
   },
   "source": [
    "### Prodotto tra matrici"
   ]
  },
  {
   "cell_type": "code",
   "execution_count": null,
   "id": "b419133e",
   "metadata": {},
   "outputs": [],
   "source": [
    "A = np.eye(3)\n",
    "B = np.ones((3, 3))\n",
    "\n",
    "np.dot(A, B)\n",
    "# A.dot(B)\n",
    "# A @ B"
   ]
  },
  {
   "cell_type": "markdown",
   "id": "d1ebf2a2",
   "metadata": {
    "slideshow": {
     "slide_type": "subslide"
    }
   },
   "source": [
    "## Accedere agli elementi"
   ]
  },
  {
   "cell_type": "code",
   "execution_count": null,
   "id": "823358c0",
   "metadata": {},
   "outputs": [],
   "source": [
    "arr = np.arange(10)\n",
    "arr[3]"
   ]
  },
  {
   "cell_type": "code",
   "execution_count": null,
   "id": "f687e22f",
   "metadata": {
    "slideshow": {
     "slide_type": "fragment"
    }
   },
   "outputs": [],
   "source": [
    "matrix = np.arange(9).reshape((3, 3))\n",
    "\n",
    "matrix\n",
    "# matrix[0][0]\n",
    "# matrix[0, 0]"
   ]
  },
  {
   "cell_type": "code",
   "execution_count": null,
   "id": "d735e02d",
   "metadata": {
    "slideshow": {
     "slide_type": "subslide"
    }
   },
   "outputs": [],
   "source": [
    "rgb = np.random.randint(256, size=(10, 10, 3))\n",
    "\n",
    "from matplotlib import pyplot as plt\n",
    "plt.imshow(rgb, interpolation='nearest')\n",
    "plt.show()\n",
    "\n",
    "rgb[0, 0]"
   ]
  },
  {
   "cell_type": "markdown",
   "id": "1e10c2b3",
   "metadata": {
    "slideshow": {
     "slide_type": "subslide"
    }
   },
   "source": [
    "### Slicing"
   ]
  },
  {
   "cell_type": "code",
   "execution_count": null,
   "id": "723fc742",
   "metadata": {
    "slideshow": {
     "slide_type": "fragment"
    }
   },
   "outputs": [],
   "source": [
    "image = 127 * np.ones((10, 10, 3))\n",
    "\n",
    "image[0, 3, :]\n",
    "\n",
    "# image[:3, :3, :]\n",
    "\n",
    "# image[:, : , 0]"
   ]
  },
  {
   "cell_type": "markdown",
   "id": "f75456ca",
   "metadata": {
    "slideshow": {
     "slide_type": "subslide"
    }
   },
   "source": [
    "_Per effettuare una copia di uno **slice** bisogna utilizzare `.copy()`_"
   ]
  },
  {
   "cell_type": "code",
   "execution_count": null,
   "id": "f1d87375",
   "metadata": {
    "slideshow": {
     "slide_type": "fragment"
    }
   },
   "outputs": [],
   "source": [
    "matrix = np.ones((5, 5))\n",
    "first_row = matrix[:, 0]\n",
    "# first_row = matrix[:, 0].copy()"
   ]
  },
  {
   "cell_type": "code",
   "execution_count": null,
   "id": "9ef5b2e2",
   "metadata": {
    "scrolled": true,
    "slideshow": {
     "slide_type": "-"
    }
   },
   "outputs": [],
   "source": [
    "display(matrix)\n",
    "display(first_row)"
   ]
  },
  {
   "cell_type": "code",
   "execution_count": null,
   "id": "ffcc8051",
   "metadata": {
    "slideshow": {
     "slide_type": "fragment"
    }
   },
   "outputs": [],
   "source": [
    "first_row[2] = 25"
   ]
  },
  {
   "cell_type": "markdown",
   "id": "67f4f2ca",
   "metadata": {
    "slideshow": {
     "slide_type": "subslide"
    }
   },
   "source": [
    "### Slicing indexing"
   ]
  },
  {
   "cell_type": "code",
   "execution_count": null,
   "id": "f5951615",
   "metadata": {
    "slideshow": {
     "slide_type": "-"
    }
   },
   "outputs": [],
   "source": [
    "arr = np.arange(20)\n",
    "arr[3:6]"
   ]
  },
  {
   "cell_type": "code",
   "execution_count": null,
   "id": "b60b5082",
   "metadata": {
    "slideshow": {
     "slide_type": "-"
    }
   },
   "outputs": [],
   "source": [
    "matrix = np.arange(16).reshape(4, 4)\n",
    "display(matrix)\n",
    "matrix[:2, 1:4]"
   ]
  },
  {
   "cell_type": "code",
   "execution_count": null,
   "id": "d80baedf",
   "metadata": {
    "slideshow": {
     "slide_type": "subslide"
    }
   },
   "outputs": [],
   "source": [
    "arr = np.arange(20)\n",
    "\n",
    "for i in range(0, 10, 2):\n",
    "    print(arr[i], end=\" \")\n",
    "\n",
    "arr[0:10:2]"
   ]
  },
  {
   "cell_type": "markdown",
   "id": "48077e58",
   "metadata": {
    "slideshow": {
     "slide_type": "subslide"
    }
   },
   "source": [
    "### Bolean indexing o maschere"
   ]
  },
  {
   "cell_type": "code",
   "execution_count": null,
   "id": "95c42bd1",
   "metadata": {
    "slideshow": {
     "slide_type": "-"
    }
   },
   "outputs": [],
   "source": [
    "matrix = np.arange(16).reshape(4, 4)\n",
    "\n",
    "indices = [\n",
    "    [True, False, True, True],\n",
    "    [True, True, False, True],\n",
    "    [True, True, True, False],\n",
    "    [False, True, True, True],\n",
    "]\n",
    "print(matrix)\n",
    "matrix[indices]"
   ]
  },
  {
   "cell_type": "code",
   "execution_count": null,
   "id": "fbc3cafa",
   "metadata": {
    "slideshow": {
     "slide_type": "subslide"
    }
   },
   "outputs": [],
   "source": [
    "image = np.random.randint(256, size=(10, 10, 1))"
   ]
  },
  {
   "cell_type": "code",
   "execution_count": null,
   "id": "770c1006",
   "metadata": {
    "slideshow": {
     "slide_type": "fragment"
    }
   },
   "outputs": [],
   "source": [
    "from matplotlib import pyplot as plt\n",
    "plt.imshow(image, interpolation='nearest')\n",
    "plt.colorbar(); plt.show();"
   ]
  },
  {
   "cell_type": "code",
   "execution_count": null,
   "id": "fae9ee9d",
   "metadata": {
    "slideshow": {
     "slide_type": "fragment"
    }
   },
   "outputs": [],
   "source": [
    "display((image > 128)[:5, :5, 0])\n",
    "image[image > 128] = 0"
   ]
  },
  {
   "cell_type": "markdown",
   "id": "d28e306e",
   "metadata": {
    "slideshow": {
     "slide_type": "subslide"
    }
   },
   "source": [
    "### Fancy indexing"
   ]
  },
  {
   "cell_type": "code",
   "execution_count": null,
   "id": "3789733c",
   "metadata": {
    "scrolled": false
   },
   "outputs": [],
   "source": [
    "matrix = np.arange(16).reshape(4, 4)\n",
    "display(matrix)\n",
    "\n",
    "matrix[:, [0, 2, 1, 3]]"
   ]
  },
  {
   "cell_type": "markdown",
   "id": "0db76fe8",
   "metadata": {
    "slideshow": {
     "slide_type": "subslide"
    }
   },
   "source": [
    "### Trasposta di un vettore/matrice"
   ]
  },
  {
   "cell_type": "code",
   "execution_count": null,
   "id": "69ac3eb9",
   "metadata": {
    "slideshow": {
     "slide_type": "fragment"
    }
   },
   "outputs": [],
   "source": [
    "matrix = np.arange(27).reshape(3, 3, 3)\n",
    "\n",
    "display(matrix)\n",
    "\n",
    "matrix.T\n",
    "\n",
    "# matrix.transpose(1, 0, 2)\n",
    "\n",
    "# matrix.swapaxes(1, 0)"
   ]
  },
  {
   "cell_type": "markdown",
   "id": "afa62fd4",
   "metadata": {
    "slideshow": {
     "slide_type": "slide"
    }
   },
   "source": [
    "## Funzioni"
   ]
  },
  {
   "cell_type": "markdown",
   "id": "229c01bc",
   "metadata": {
    "slideshow": {
     "slide_type": "subslide"
    }
   },
   "source": [
    "### Unary function"
   ]
  },
  {
   "cell_type": "code",
   "execution_count": null,
   "id": "da552a23",
   "metadata": {
    "slideshow": {
     "slide_type": "subslide"
    }
   },
   "outputs": [],
   "source": [
    "x = np.linspace(-3, 3, 13, dtype=np.float16)\n",
    "\n",
    "for op in (np.abs, np.sign, np.square, np.ceil, np.floor):\n",
    "    print(f\"np.{op.__name__}:\", *op(x), sep=\"\\t\")\n",
    "    print()\n",
    "\n",
    "# np.square(x)"
   ]
  },
  {
   "cell_type": "code",
   "execution_count": null,
   "id": "ab90e2de",
   "metadata": {
    "slideshow": {
     "slide_type": "subslide"
    }
   },
   "outputs": [],
   "source": [
    "import numpy as np\n",
    "import matplotlib.pyplot as plt\n",
    "\n",
    "x = np.linspace(0, 6 * np.pi, 10000)\n",
    "y = np.cos(x)\n",
    "\n",
    "plt.plot(x, y);"
   ]
  },
  {
   "cell_type": "markdown",
   "id": "131e2e5c",
   "metadata": {
    "slideshow": {
     "slide_type": "subslide"
    }
   },
   "source": [
    "### Binary function"
   ]
  },
  {
   "cell_type": "code",
   "execution_count": null,
   "id": "50f99326",
   "metadata": {
    "slideshow": {
     "slide_type": "fragment"
    }
   },
   "outputs": [],
   "source": [
    "x1 = np.ones(4)\n",
    "x2 = np.ones_like(x1)\n",
    "np.add(x1, x2)"
   ]
  },
  {
   "cell_type": "code",
   "execution_count": null,
   "id": "af260b79",
   "metadata": {
    "slideshow": {
     "slide_type": "fragment"
    }
   },
   "outputs": [],
   "source": [
    "x = np.linspace(0, 1, 10)\n",
    "y = np.array([1, 2, 2, 1, 2, 3, 0, 0, 1, 1])\n",
    "\n",
    "np.power(x, y)"
   ]
  },
  {
   "cell_type": "markdown",
   "id": "ea21a1d8",
   "metadata": {
    "slideshow": {
     "slide_type": "subslide"
    }
   },
   "source": [
    "$y = 3\\cdot e^{cos(x)}$"
   ]
  },
  {
   "cell_type": "code",
   "execution_count": null,
   "id": "66340648",
   "metadata": {
    "slideshow": {
     "slide_type": "fragment"
    }
   },
   "outputs": [],
   "source": [
    "x = np.linspace(-20, 20, 1000)\n",
    "\n",
    "y = 3 * np.power(np.e, np.cos(x))"
   ]
  },
  {
   "cell_type": "code",
   "execution_count": null,
   "id": "07e79460",
   "metadata": {
    "slideshow": {
     "slide_type": "fragment"
    }
   },
   "outputs": [],
   "source": [
    "plt.plot(x, y);"
   ]
  },
  {
   "cell_type": "markdown",
   "id": "73c2ab39",
   "metadata": {
    "slideshow": {
     "slide_type": "slide"
    }
   },
   "source": [
    "## Programmazione vettoriale"
   ]
  },
  {
   "cell_type": "code",
   "execution_count": null,
   "id": "9116a9e0",
   "metadata": {
    "slideshow": {
     "slide_type": "subslide"
    }
   },
   "outputs": [],
   "source": [
    "np.sum(arr)\n",
    "np.mean(arr)\n",
    "np.std(arr)\n",
    "np.min(arr)\n",
    "np.max(arr)\n",
    "np.argmin(arr)\n",
    "np.argmax(arr)\n",
    "np.cumsum(arr)\n",
    "np.cumprod(arr)"
   ]
  },
  {
   "cell_type": "code",
   "execution_count": null,
   "id": "5fb9c9e3",
   "metadata": {
    "slideshow": {
     "slide_type": "fragment"
    }
   },
   "outputs": [],
   "source": [
    "arr.sum()\n",
    "arr.min()\n",
    "arr.argmax()"
   ]
  },
  {
   "cell_type": "markdown",
   "id": "c72da1c9",
   "metadata": {
    "slideshow": {
     "slide_type": "subslide"
    }
   },
   "source": [
    "## metodi booleani"
   ]
  },
  {
   "cell_type": "code",
   "execution_count": null,
   "id": "09975b08",
   "metadata": {
    "slideshow": {
     "slide_type": "fragment"
    }
   },
   "outputs": [],
   "source": [
    "arr.any()\n",
    "\n",
    "arr.all()"
   ]
  },
  {
   "cell_type": "code",
   "execution_count": null,
   "id": "5054b87f",
   "metadata": {
    "slideshow": {
     "slide_type": "subslide"
    }
   },
   "outputs": [],
   "source": [
    "arr = np.random.normal(size=(4, 4))\n",
    "\n",
    "# arr.sort()\n",
    "arr.sort(0)\n",
    "\n",
    "arr"
   ]
  },
  {
   "cell_type": "code",
   "execution_count": null,
   "id": "f8294750",
   "metadata": {
    "slideshow": {
     "slide_type": "subslide"
    }
   },
   "outputs": [],
   "source": [
    "x = np.array([1, 2, 3, 4, 5])\n",
    "y = np.array([2, 2, 3])\n",
    "\n",
    "np.unique(x)\n",
    "np.intersect1d(x, y)\n",
    "np.union1d(x, y)\n",
    "np.in1d(x, y)\n",
    "np.setdiff1d(x, y)\n",
    "np.setxor1d(x, y)"
   ]
  },
  {
   "cell_type": "markdown",
   "id": "e1af03ce",
   "metadata": {
    "slideshow": {
     "slide_type": "slide"
    }
   },
   "source": [
    "## Algebra Lineare (numpy.linalg)"
   ]
  },
  {
   "cell_type": "code",
   "execution_count": null,
   "id": "0cf95555",
   "metadata": {
    "slideshow": {
     "slide_type": "subslide"
    }
   },
   "outputs": [],
   "source": [
    "m = np.random.random((3, 3))\n",
    "\n",
    "np.diag(m)\n",
    "np.linalg.det(m)\n",
    "np.linalg.inv(m)\n",
    "\n",
    "q, r = np.linalg.qr(m)\n",
    "x = np.linalg.solve(m, [1, 2, 3])"
   ]
  },
  {
   "cell_type": "markdown",
   "id": "244333dd",
   "metadata": {
    "slideshow": {
     "slide_type": "slide"
    }
   },
   "source": [
    "## Numeri pseudocasuali"
   ]
  },
  {
   "cell_type": "code",
   "execution_count": null,
   "id": "f196ef04",
   "metadata": {
    "slideshow": {
     "slide_type": "fragment"
    }
   },
   "outputs": [],
   "source": [
    "points = np.random.random((2, 1000))\n",
    "points = np.random.normal(size=(2, 1000))\n",
    "\n",
    "plt.scatter(points[0, :], points[1, :])\n",
    "# plt.hist(points[0], bins=20)"
   ]
  },
  {
   "cell_type": "code",
   "execution_count": null,
   "id": "22c7fe92",
   "metadata": {
    "slideshow": {
     "slide_type": "subslide"
    }
   },
   "outputs": [],
   "source": [
    "import pandas as pd\n",
    "from pandas import DataFrame as df"
   ]
  },
  {
   "cell_type": "code",
   "execution_count": null,
   "id": "d802eab1",
   "metadata": {
    "slideshow": {
     "slide_type": "fragment"
    }
   },
   "outputs": [],
   "source": [
    "df(points.T, columns=(\"x\", \"y\"))"
   ]
  },
  {
   "cell_type": "code",
   "execution_count": null,
   "id": "c5df0cc0",
   "metadata": {},
   "outputs": [],
   "source": []
  }
 ],
 "metadata": {
  "celltoolbar": "Slideshow",
  "kernelspec": {
   "display_name": "Python 3 (ipykernel)",
   "language": "python",
   "name": "python3"
  },
  "language_info": {
   "codemirror_mode": {
    "name": "ipython",
    "version": 3
   },
   "file_extension": ".py",
   "mimetype": "text/x-python",
   "name": "python",
   "nbconvert_exporter": "python",
   "pygments_lexer": "ipython3",
   "version": "3.10.8"
  },
  "rise": {
   "theme": "night"
  }
 },
 "nbformat": 4,
 "nbformat_minor": 5
}
