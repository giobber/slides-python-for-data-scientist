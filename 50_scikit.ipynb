{
 "cells": [
  {
   "cell_type": "markdown",
   "id": "1f3e395c",
   "metadata": {
    "slideshow": {
     "slide_type": "slide"
    }
   },
   "source": [
    "# Python for Data Scientist\n",
    "## From data manipulation to machine learning"
   ]
  },
  {
   "cell_type": "markdown",
   "id": "0f2459f1",
   "metadata": {
    "slideshow": {
     "slide_type": "subslide"
    }
   },
   "source": [
    "# scikit-learn"
   ]
  },
  {
   "cell_type": "markdown",
   "id": "d8fa2fe4",
   "metadata": {
    "slideshow": {
     "slide_type": "subslide"
    }
   },
   "source": [
    "* classification\n",
    "* regression\n",
    "* clustering\n",
    "* preprocessing\n",
    "* ..."
   ]
  },
  {
   "cell_type": "code",
   "execution_count": null,
   "id": "afd86da2",
   "metadata": {
    "slideshow": {
     "slide_type": "subslide"
    }
   },
   "outputs": [],
   "source": [
    "import seaborn as sns\n",
    "\n",
    "from sklearn import svm\n",
    "from sklearn.model_selection import train_test_split"
   ]
  },
  {
   "cell_type": "markdown",
   "id": "619ca049",
   "metadata": {},
   "source": [
    "### Carico il dataset dei passeggeri del titanic da seaborn"
   ]
  },
  {
   "cell_type": "code",
   "execution_count": null,
   "id": "80510b4e",
   "metadata": {},
   "outputs": [],
   "source": [
    "original_data = sns.load_dataset(\"titanic\")\n",
    "original_data"
   ]
  },
  {
   "cell_type": "markdown",
   "id": "f12af279",
   "metadata": {},
   "source": [
    "### Creo una copia del dataset in modo da mantenere i dati orginali"
   ]
  },
  {
   "cell_type": "code",
   "execution_count": null,
   "id": "9ccd11be",
   "metadata": {},
   "outputs": [],
   "source": [
    "data = original_data.copy()"
   ]
  },
  {
   "cell_type": "code",
   "execution_count": null,
   "id": "8e5325a3",
   "metadata": {},
   "outputs": [],
   "source": [
    "data[columns].describe()"
   ]
  },
  {
   "cell_type": "markdown",
   "id": "0665205a",
   "metadata": {},
   "source": [
    "### Converto alcune colonne di tipo categorico in tipo numerico"
   ]
  },
  {
   "cell_type": "code",
   "execution_count": null,
   "id": "6755f3ae",
   "metadata": {},
   "outputs": [],
   "source": [
    "# Nota: se eseguita due volte, questa operazione rende tutta la colonna NaN\n",
    "data.sex = data.sex.map({\"male\": -1, \"female\": 1})\n",
    "data.sex.unique()"
   ]
  },
  {
   "cell_type": "code",
   "execution_count": null,
   "id": "cbb583ca",
   "metadata": {},
   "outputs": [],
   "source": [
    "# nota: class è già presente in formato numerico come classe pclass\n",
    "data[\"class\"] = data[\"class\"].map({\"First\": 1, \"Second\": 2, \"Third\": 3})\n",
    "data[\"class\"].unique()"
   ]
  },
  {
   "cell_type": "markdown",
   "id": "9181b79b",
   "metadata": {},
   "source": [
    "### Elimino alcuni valori NaN dalla colonna `age` impostandoli al valor medio\n",
    "Questo non è ne l'unico ne l'ottimale approccio per \"eliminare\" i valori NaN. Una strategia di pulitura dei dati mancanti va sempre stabilita in base al tipo di dataset e ai propri obiettivi e con una buona dose di buon senso. \n",
    "\n",
    "**Nota**: la funzione `count()` ritorna il numero di valori diversi da **NaN**/**None**"
   ]
  },
  {
   "cell_type": "code",
   "execution_count": null,
   "id": "8aa282b2",
   "metadata": {},
   "outputs": [],
   "source": [
    "data.age.count?\n",
    "# len(data.age[data.age.isna()])\n",
    "data.age.count()"
   ]
  },
  {
   "cell_type": "code",
   "execution_count": null,
   "id": "e4585cdb",
   "metadata": {},
   "outputs": [],
   "source": [
    "mean_age = data.age[data.age.notna()].mean()\n",
    "data.age.fillna(mean_age, inplace=True)\n",
    "data.age.count()"
   ]
  },
  {
   "cell_type": "markdown",
   "id": "62f50d6f",
   "metadata": {},
   "source": [
    "### Seleziono e normalizzo le colonne che daremo in pasto alla SVM \n",
    "Buona norma quando si usano algoritmi come le SVM è quello di normalizzare i dati in modo che la scala dei numeri passati non vada a intaccare l'algoritmo\n",
    "\n",
    "Saltare questo passaggio causa un peggioramento visibile delle performance nel caso di una SVM"
   ]
  },
  {
   "cell_type": "code",
   "execution_count": null,
   "id": "dfbdb854",
   "metadata": {},
   "outputs": [],
   "source": [
    "columns = [\"pclass\", \"age\", \"sibsp\", \"parch\", \"fare\", \"sex\"]\n",
    "\n",
    "for column in columns:\n",
    "    col = data[column]\n",
    "    data[column] = (col - col.mean()) / col.std()"
   ]
  },
  {
   "cell_type": "code",
   "execution_count": null,
   "id": "70337c2c",
   "metadata": {},
   "outputs": [],
   "source": [
    "data[columns].describe()"
   ]
  },
  {
   "cell_type": "markdown",
   "id": "b8fb1a18",
   "metadata": {},
   "source": [
    "### Separo i dati preparati in due insiemi\n",
    "#### un insieme di train (usato per addestrare il modello)\n",
    "#### un insieme di test (usato per validare le performance del mio modello)"
   ]
  },
  {
   "cell_type": "code",
   "execution_count": null,
   "id": "0b42f5dc",
   "metadata": {},
   "outputs": [],
   "source": [
    "train, test = train_test_split(data, test_size=0.2)\n",
    "\n",
    "len(train), len(test)"
   ]
  },
  {
   "cell_type": "markdown",
   "id": "41c575ed",
   "metadata": {},
   "source": [
    "### Creo il mio modello SVM di tipo classificatore (SVC) e lo addestro sull'insieme di train"
   ]
  },
  {
   "cell_type": "code",
   "execution_count": null,
   "id": "9c52f200",
   "metadata": {},
   "outputs": [],
   "source": [
    "classifier = svm.SVC()\n",
    "\n",
    "classifier.fit(train[columns], train.survived)"
   ]
  },
  {
   "cell_type": "markdown",
   "id": "aac3aa3c",
   "metadata": {},
   "source": [
    "### Provo a predire la sopravvivenza dei passeggeri nell'insieme di test\n",
    "Per convenienza la aggiungo come colonna del dataset"
   ]
  },
  {
   "cell_type": "code",
   "execution_count": null,
   "id": "939ded59",
   "metadata": {},
   "outputs": [],
   "source": [
    "test[\"predict\"] = classifier.predict(test[columns])"
   ]
  },
  {
   "cell_type": "code",
   "execution_count": null,
   "id": "55f7134d",
   "metadata": {},
   "outputs": [],
   "source": [
    "test"
   ]
  },
  {
   "cell_type": "code",
   "execution_count": null,
   "id": "9dae822b",
   "metadata": {},
   "outputs": [],
   "source": [
    "print(f\"Predict correctly: {len(test[test.predict == test.survived])}/{len(test)}\")\n",
    "test[test.predict != test.survived]"
   ]
  }
 ],
 "metadata": {
  "celltoolbar": "Slideshow",
  "kernelspec": {
   "display_name": "Python 3 (ipykernel)",
   "language": "python",
   "name": "python3"
  },
  "language_info": {
   "codemirror_mode": {
    "name": "ipython",
    "version": 3
   },
   "file_extension": ".py",
   "mimetype": "text/x-python",
   "name": "python",
   "nbconvert_exporter": "python",
   "pygments_lexer": "ipython3",
   "version": "3.10.8"
  },
  "rise": {
   "theme": "night"
  }
 },
 "nbformat": 4,
 "nbformat_minor": 5
}
