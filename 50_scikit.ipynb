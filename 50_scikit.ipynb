{
 "cells": [
  {
   "cell_type": "markdown",
   "id": "1f3e395c",
   "metadata": {
    "slideshow": {
     "slide_type": "slide"
    }
   },
   "source": [
    "# Python for Data Scientist\n",
    "## From data manipulation to machine learning"
   ]
  },
  {
   "cell_type": "markdown",
   "id": "0f2459f1",
   "metadata": {
    "slideshow": {
     "slide_type": "subslide"
    }
   },
   "source": [
    "# scikit-learn"
   ]
  },
  {
   "cell_type": "markdown",
   "id": "d8fa2fe4",
   "metadata": {
    "slideshow": {
     "slide_type": "subslide"
    }
   },
   "source": [
    "* classification\n",
    "* regression\n",
    "* clustering\n",
    "* preprocessing\n",
    "* ..."
   ]
  },
  {
   "cell_type": "code",
   "execution_count": null,
   "id": "afd86da2",
   "metadata": {
    "slideshow": {
     "slide_type": "subslide"
    }
   },
   "outputs": [],
   "source": [
    "import seaborn as sns\n",
    "\n",
    "from sklearn import svm\n",
    "from sklearn.model_selection import train_test_split"
   ]
  },
  {
   "cell_type": "code",
   "execution_count": null,
   "id": "80510b4e",
   "metadata": {},
   "outputs": [],
   "source": [
    "data = sns.load_dataset(\"titanic\")\n",
    "data"
   ]
  },
  {
   "cell_type": "code",
   "execution_count": null,
   "id": "dfbdb854",
   "metadata": {},
   "outputs": [],
   "source": [
    "columns = [\"pclass\", \"age\", \"sibsp\", \"parch\", \"fare\", \"sex\", \"class\"]\n",
    "\n",
    "mean_age = data.age[data.age.notna()].mean()\n",
    "data.age.fillna(mean_age, inplace=True)\n",
    "\n",
    "data.sex = data.sex.map({\"male\": 0, \"female\": 1})\n",
    "data[\"class\"] = data[\"class\"].map({\"First\": 1, \"Second\": 2, \"Third\": 3})"
   ]
  },
  {
   "cell_type": "code",
   "execution_count": null,
   "id": "0b42f5dc",
   "metadata": {},
   "outputs": [],
   "source": [
    "train, test = train_test_split(data, test_size=0.2)\n",
    "\n",
    "len(train), len(test)"
   ]
  },
  {
   "cell_type": "code",
   "execution_count": null,
   "id": "9c52f200",
   "metadata": {},
   "outputs": [],
   "source": [
    "classifier = svm.SVC()\n",
    "\n",
    "classifier.fit(train[columns], train.survived)"
   ]
  },
  {
   "cell_type": "code",
   "execution_count": null,
   "id": "939ded59",
   "metadata": {},
   "outputs": [],
   "source": [
    "test[\"predict\"] = classifier.predict(test[columns])\n",
    "\n",
    "print(f\"Predict correctly: {len(test[test.predict == test.survived])}/{len(test)}\")\n",
    "test[test.predict != test.survived]"
   ]
  },
  {
   "cell_type": "code",
   "execution_count": null,
   "id": "9dae822b",
   "metadata": {},
   "outputs": [],
   "source": []
  }
 ],
 "metadata": {
  "celltoolbar": "Slideshow",
  "kernelspec": {
   "display_name": "Python 3 (ipykernel)",
   "language": "python",
   "name": "python3"
  },
  "language_info": {
   "codemirror_mode": {
    "name": "ipython",
    "version": 3
   },
   "file_extension": ".py",
   "mimetype": "text/x-python",
   "name": "python",
   "nbconvert_exporter": "python",
   "pygments_lexer": "ipython3",
   "version": "3.10.8"
  },
  "rise": {
   "theme": "night"
  }
 },
 "nbformat": 4,
 "nbformat_minor": 5
}
