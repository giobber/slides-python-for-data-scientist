{
 "cells": [
  {
   "cell_type": "markdown",
   "id": "5b255fc2",
   "metadata": {
    "slideshow": {
     "slide_type": "slide"
    }
   },
   "source": [
    "# Python for Data Scientist\n",
    "## From data manipulation to machine learning"
   ]
  },
  {
   "cell_type": "markdown",
   "id": "ae4dee9d",
   "metadata": {
    "slideshow": {
     "slide_type": "subslide"
    }
   },
   "source": [
    "# Scipy"
   ]
  },
  {
   "cell_type": "markdown",
   "id": "95edf371",
   "metadata": {
    "slideshow": {
     "slide_type": "fragment"
    }
   },
   "source": [
    "Scipy è una collezione di algoritmi e utilities basate su numpy"
   ]
  },
  {
   "cell_type": "markdown",
   "id": "df7bba07",
   "metadata": {
    "slideshow": {
     "slide_type": "subslide"
    }
   },
   "source": [
    "* scipy.integration\n",
    "* scipy.fft\n",
    "* scipy.signal\n",
    "* scipy.stats\n",
    "* ..."
   ]
  },
  {
   "cell_type": "markdown",
   "id": "0197f9ca",
   "metadata": {
    "slideshow": {
     "slide_type": "subslide"
    }
   },
   "source": [
    "## Esempio (Signal)"
   ]
  },
  {
   "cell_type": "code",
   "execution_count": null,
   "id": "8d0af8ab",
   "metadata": {
    "slideshow": {
     "slide_type": "subslide"
    }
   },
   "outputs": [],
   "source": [
    "import numpy as np\n",
    "from scipy import signal, misc\n",
    "import matplotlib.pyplot as plt"
   ]
  },
  {
   "cell_type": "code",
   "execution_count": null,
   "id": "0b3f8501",
   "metadata": {
    "slideshow": {
     "slide_type": "subslide"
    }
   },
   "outputs": [],
   "source": [
    "image = misc.ascent()\n",
    "plt.imshow(image)\n",
    "# plt.gray()"
   ]
  },
  {
   "cell_type": "code",
   "execution_count": null,
   "id": "71bcf8ba",
   "metadata": {
    "slideshow": {
     "slide_type": "subslide"
    }
   },
   "outputs": [],
   "source": [
    "w = signal.windows.gaussian(51, 10.0)\n",
    "\n",
    "filtered = signal.sepfir2d(image, w, w)\n",
    "\n",
    "plt.imshow(filtered)\n",
    "plt.show()"
   ]
  },
  {
   "cell_type": "markdown",
   "id": "1250238a",
   "metadata": {
    "slideshow": {
     "slide_type": "subslide"
    }
   },
   "source": [
    "## Esempio (Fourier)"
   ]
  },
  {
   "cell_type": "code",
   "execution_count": null,
   "id": "5dacb91c",
   "metadata": {
    "slideshow": {
     "slide_type": "subslide"
    }
   },
   "outputs": [],
   "source": [
    "from scipy import fft"
   ]
  },
  {
   "cell_type": "code",
   "execution_count": null,
   "id": "32e80502",
   "metadata": {
    "slideshow": {
     "slide_type": "fragment"
    }
   },
   "outputs": [],
   "source": [
    "N = 600\n",
    "T = 1.0 / 800\n",
    "\n",
    "x = np.linspace(0, N*T, N, endpoint=False)\n",
    "y = np.sin(50 * 2*np.pi*x) + .5 * np.sin(80 * 2*np.pi*x)"
   ]
  },
  {
   "cell_type": "code",
   "execution_count": null,
   "id": "edae99ea",
   "metadata": {
    "slideshow": {
     "slide_type": "fragment"
    }
   },
   "outputs": [],
   "source": [
    "yf = fft.fft(y)\n",
    "xf = fft.fftfreq(N, T)[:N//2]"
   ]
  },
  {
   "cell_type": "code",
   "execution_count": null,
   "id": "6fa5608e",
   "metadata": {
    "slideshow": {
     "slide_type": "subslide"
    }
   },
   "outputs": [],
   "source": [
    "plt.subplot(211)\n",
    "plt.plot(x, y);\n",
    "\n",
    "plt.subplot(212)\n",
    "plt.plot(xf, 2.0/N * np.abs(yf[0:N//2]));"
   ]
  }
 ],
 "metadata": {
  "celltoolbar": "Slideshow",
  "kernelspec": {
   "display_name": "Python 3 (ipykernel)",
   "language": "python",
   "name": "python3"
  },
  "language_info": {
   "codemirror_mode": {
    "name": "ipython",
    "version": 3
   },
   "file_extension": ".py",
   "mimetype": "text/x-python",
   "name": "python",
   "nbconvert_exporter": "python",
   "pygments_lexer": "ipython3",
   "version": "3.10.8"
  },
  "rise": {
   "theme": "night"
  }
 },
 "nbformat": 4,
 "nbformat_minor": 5
}
