{
 "cells": [
  {
   "cell_type": "markdown",
   "id": "b1365d35",
   "metadata": {
    "slideshow": {
     "slide_type": "slide"
    }
   },
   "source": [
    "# Python for Data Scientist\n",
    "## From data manipulation to machine learning"
   ]
  },
  {
   "cell_type": "markdown",
   "id": "5d383695",
   "metadata": {
    "slideshow": {
     "slide_type": "subslide"
    }
   },
   "source": [
    "<div style=\"display: flex; justify-content: space-between; \n",
    "            align-items: center;\">\n",
    "    <img src=\"images/me.jpg\" style=\"max-width: 50%\">\n",
    "    <div style=\"text-align: center; vertical-align: middle; width: 100%\">\n",
    "        <br>\n",
    "        <h1>Elia Giacobazzi</h1>\n",
    "        elia.giacobazzi@euler.it<br>\n",
    "        <h5>\n",
    "            Matematico<br>\n",
    "            Libero Professionista<br>\n",
    "            Data Scientist\n",
    "        </h5>\n",
    "    </div>\n",
    "</div>"
   ]
  },
  {
   "cell_type": "markdown",
   "id": "172c74b7",
   "metadata": {
    "slideshow": {
     "slide_type": "subslide"
    }
   },
   "source": [
    "<div class=\"gallery\">\n",
    "    <img src=images/clinux-logo.png style=\"max-width: 50%\">\n",
    "    <img src=images/euler-logo.png style=\"max-width: 50%\">\n",
    "</div>"
   ]
  },
  {
   "cell_type": "markdown",
   "id": "bccf58b7",
   "metadata": {
    "slideshow": {
     "slide_type": "subslide"
    }
   },
   "source": [
    "Ringrazio **Alessandro Grandi** di **Digital Dreamers** per le loro slides"
   ]
  },
  {
   "cell_type": "markdown",
   "id": "d7472d7e",
   "metadata": {
    "slideshow": {
     "slide_type": "slide"
    }
   },
   "source": [
    "# Data Science"
   ]
  },
  {
   "cell_type": "markdown",
   "id": "11e06ec1",
   "metadata": {
    "slideshow": {
     "slide_type": "subslide"
    }
   },
   "source": [
    "_Scopo del Data Scientist è quello di organizzare e analizzare grandi quantità di dati_"
   ]
  },
  {
   "cell_type": "markdown",
   "id": "2b7f97e7",
   "metadata": {
    "slideshow": {
     "slide_type": "subslide"
    }
   },
   "source": [
    "* Big Data\n",
    "* Analytics\n",
    "* Automazione\n",
    "* Machine Learning"
   ]
  },
  {
   "cell_type": "markdown",
   "id": "968d54bc",
   "metadata": {
    "slideshow": {
     "slide_type": "subslide"
    }
   },
   "source": [
    "### E python cosa c'entra?"
   ]
  },
  {
   "cell_type": "markdown",
   "id": "c66b712f",
   "metadata": {
    "slideshow": {
     "slide_type": "fragment"
    }
   },
   "source": [
    "* [numfocus.org](https://numfocus.org)\n",
    "* [numpy.org](https://numpy.org)\n",
    "* [pandas.pydata.org](https://pandas.pydata.org)\n",
    "* [scipy.org](https://scipy.org)\n",
    "* [scikit-learn.org](https://scikit-learn.org)"
   ]
  },
  {
   "cell_type": "markdown",
   "id": "71fa86e1",
   "metadata": {
    "slideshow": {
     "slide_type": "subslide"
    }
   },
   "source": [
    "### Tutto molto bello, ma come si installa questa roba?"
   ]
  },
  {
   "cell_type": "markdown",
   "id": "6dc7ce9b",
   "metadata": {
    "slideshow": {
     "slide_type": "fragment"
    }
   },
   "source": [
    "Tramite `pip`\n",
    "```sh\n",
    "> pip install numpy\n",
    "```"
   ]
  },
  {
   "cell_type": "markdown",
   "id": "6c0a6ee0",
   "metadata": {
    "slideshow": {
     "slide_type": "fragment"
    }
   },
   "source": [
    "Tramite [Anaconda](https://www.anaconda.com/products/distribution)\n",
    "```bash\n",
    "> conda create --name science \n",
    "> conda activate science\n",
    "> conda install numpy\n",
    "\n",
    "```"
   ]
  },
  {
   "cell_type": "markdown",
   "id": "fc3b2ce5",
   "metadata": {
    "slideshow": {
     "slide_type": "slide"
    }
   },
   "source": [
    "* [Introduzione](/notebooks/00_intro.ipynb)\n",
    "* [Virtual Environments](/notebooks/01_venvs.ipynb)\n",
    "* [NumPy](/notebooks/10_numpy.ipynb)\n",
    "* [MatPlotLib](/notebooks/20_matplotlib.ipynb)\n",
    "* [Pandas](/notebooks/30_pandas.ipynb)\n",
    "* [Scipy](/notebooks/40_scipy.ipynb)"
   ]
  }
 ],
 "metadata": {
  "celltoolbar": "Slideshow",
  "kernelspec": {
   "display_name": "Python 3 (ipykernel)",
   "language": "python",
   "name": "python3"
  },
  "language_info": {
   "codemirror_mode": {
    "name": "ipython",
    "version": 3
   },
   "file_extension": ".py",
   "mimetype": "text/x-python",
   "name": "python",
   "nbconvert_exporter": "python",
   "pygments_lexer": "ipython3",
   "version": "3.10.8"
  },
  "rise": {
   "theme": "night"
  }
 },
 "nbformat": 4,
 "nbformat_minor": 5
}
