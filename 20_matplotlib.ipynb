{
 "cells": [
  {
   "cell_type": "code",
   "execution_count": null,
   "id": "aab8dfec",
   "metadata": {
    "slideshow": {
     "slide_type": "skip"
    }
   },
   "outputs": [],
   "source": [
    "%%HTML\n",
    "<link rel=\"stylesheet\" type=\"text/css\" href=\"rise.css\">"
   ]
  },
  {
   "cell_type": "markdown",
   "id": "f877563b",
   "metadata": {
    "slideshow": {
     "slide_type": "slide"
    }
   },
   "source": [
    "# Python for Data Scientist\n",
    "## From data manipulation to machine learning"
   ]
  },
  {
   "cell_type": "markdown",
   "id": "25426422",
   "metadata": {
    "slideshow": {
     "slide_type": "slide"
    }
   },
   "source": [
    "# MatPlotLib"
   ]
  },
  {
   "cell_type": "markdown",
   "id": "e85e452f",
   "metadata": {
    "slideshow": {
     "slide_type": "fragment"
    }
   },
   "source": [
    "_Libreria python per la creazione di grafici_"
   ]
  },
  {
   "cell_type": "markdown",
   "id": "d3f4eaa1",
   "metadata": {
    "slideshow": {
     "slide_type": "notes"
    }
   },
   "source": [
    "* numerosi formati destinati all’uso cartaceo \n",
    "* ambienti interattivi (jupyter).\n",
    "* script Python\n",
    "* shell di Python e IPython\n",
    "* notebook Jupiter\n",
    "* applicazioni web \n",
    "* GUI\n"
   ]
  },
  {
   "cell_type": "markdown",
   "id": "3d767337",
   "metadata": {
    "slideshow": {
     "slide_type": "subslide"
    }
   },
   "source": [
    "## pyplot"
   ]
  },
  {
   "cell_type": "markdown",
   "id": "ab7d6546",
   "metadata": {
    "slideshow": {
     "slide_type": "fragment"
    }
   },
   "source": [
    "Interfaccia simile a _MATLAB_"
   ]
  },
  {
   "cell_type": "code",
   "execution_count": null,
   "id": "bb7191fc",
   "metadata": {
    "slideshow": {
     "slide_type": "subslide"
    }
   },
   "outputs": [],
   "source": [
    "import numpy as np\n",
    "import matplotlib.pyplot as plt"
   ]
  },
  {
   "cell_type": "code",
   "execution_count": null,
   "id": "4dd64831",
   "metadata": {
    "scrolled": true,
    "slideshow": {
     "slide_type": "subslide"
    }
   },
   "outputs": [],
   "source": [
    "x = np.linspace(0, 1, 100)\n",
    "fig, axes = plt.subplots(1, 4, figsize=(20, 5))\n",
    "axes[0].plot(x, np.square(x))\n",
    "axes[1].scatter(x, np.random.rand(100))\n",
    "axes[2].bar([\"red\", \"green\", \"blue\"], [34, 56, 12])\n",
    "axes[3].hist(np.random.randn(5000), 30);"
   ]
  },
  {
   "cell_type": "code",
   "execution_count": null,
   "id": "b62395d4",
   "metadata": {
    "slideshow": {
     "slide_type": "subslide"
    }
   },
   "outputs": [],
   "source": [
    "plt.scatter([0], [0])\n",
    "plt.title(\"This is the FIGURE and the single AXES\")\n",
    "plt.xlabel(\"This is an AXIS\")\n",
    "plt.ylabel(\"This is an AXIS\")\n",
    "plt.show()"
   ]
  },
  {
   "cell_type": "code",
   "execution_count": null,
   "id": "4c630453",
   "metadata": {
    "slideshow": {
     "slide_type": "subslide"
    }
   },
   "outputs": [],
   "source": [
    "import numpy as np\n",
    "import matplotlib.pyplot as plt"
   ]
  },
  {
   "cell_type": "code",
   "execution_count": null,
   "id": "f470830c",
   "metadata": {
    "slideshow": {
     "slide_type": "fragment"
    }
   },
   "outputs": [],
   "source": [
    "x = np.linspace(0, 1.5, 100)\n",
    "\n",
    "plt.title(\"Polynomial curves\")\n",
    "\n",
    "plt.plot(x, x, label='y = x')\n",
    "plt.plot(x, x ** 2, label='y = x²')\n",
    "plt.plot(x, x ** 3, label='y = x³')\n",
    "\n",
    "plt.legend()\n",
    "plt.show()"
   ]
  },
  {
   "cell_type": "code",
   "execution_count": null,
   "id": "84e8813d",
   "metadata": {
    "slideshow": {
     "slide_type": "subslide"
    }
   },
   "outputs": [],
   "source": [
    "plt.plot([1, 2, 4])\n",
    "\n",
    "plt.ylabel(\"Asse y\")\n",
    "\n",
    "plt.show()"
   ]
  },
  {
   "cell_type": "code",
   "execution_count": null,
   "id": "13ee5550",
   "metadata": {
    "slideshow": {
     "slide_type": "subslide"
    }
   },
   "outputs": [],
   "source": [
    "plt.plot([1, 2, 3, 4], [1, 4, 9, 16])\n",
    "\n",
    "plt.show()"
   ]
  },
  {
   "cell_type": "code",
   "execution_count": null,
   "id": "2adbcf85",
   "metadata": {
    "slideshow": {
     "slide_type": "subslide"
    }
   },
   "outputs": [],
   "source": [
    "plt.plot([1, 2, 3, 4], [1, 4, 9, 16])\n",
    "\n",
    "plt.xlabel(\"Asse x\")\n",
    "plt.ylabel(\"Asse y\")\n",
    "\n",
    "plt.show()"
   ]
  },
  {
   "cell_type": "markdown",
   "id": "2fa29844",
   "metadata": {
    "slideshow": {
     "slide_type": "subslide"
    }
   },
   "source": [
    "* `c`: cyan\n",
    "* `^`: arrow\n",
    "* `--`: dashed line"
   ]
  },
  {
   "cell_type": "code",
   "execution_count": null,
   "id": "7c4ea5a2",
   "metadata": {
    "scrolled": false,
    "slideshow": {
     "slide_type": "-"
    }
   },
   "outputs": [],
   "source": [
    "plt.plot([1, 2, 3, 4], [1, 4, 9, 16], \"c^--\")\n",
    "\n",
    "plt.axis([0, 6, 0, 20])\n",
    "plt.show()"
   ]
  },
  {
   "cell_type": "code",
   "execution_count": null,
   "id": "310ba4ba",
   "metadata": {
    "slideshow": {
     "slide_type": "subslide"
    }
   },
   "outputs": [],
   "source": [
    "x, y = [1, 2, 3, 4], np.array([1, 4, 9, 16])\n",
    "\n",
    "plt.plot(x, y+0, \"c^-\")\n",
    "plt.plot(x, y+1, \"ro:\")\n",
    "\n",
    "plt.plot(x, y+2, \"g\", linestyle=\"dashed\")\n",
    "plt.plot(x, y+3, \"p\", ls=\"dashdot\")\n",
    "\n",
    "plt.show()"
   ]
  },
  {
   "cell_type": "code",
   "execution_count": null,
   "id": "6927811d",
   "metadata": {
    "slideshow": {
     "slide_type": "subslide"
    }
   },
   "outputs": [],
   "source": [
    "x, y = [1, 2, 3, 4], np.array([1, 4, 9, 16])\n",
    "\n",
    "plt.plot(x, y+0, \"c\")\n",
    "plt.plot(x, y+2, \"r\", linewidth='3')\n",
    "plt.plot(x, y+4, \"g\", linewidth='0.3')"
   ]
  },
  {
   "cell_type": "code",
   "execution_count": null,
   "id": "10f33dad",
   "metadata": {},
   "outputs": [],
   "source": [
    "x = np.linspace(0, 1, 20)\n",
    "\n",
    "plt.plot(\n",
    "    x, x**2, 'c', \n",
    "    x, x**2+0.1, 'g--',\n",
    "    x, x**2-0.1, 'g.-'\n",
    ")"
   ]
  },
  {
   "cell_type": "code",
   "execution_count": null,
   "id": "ddc7db00",
   "metadata": {
    "slideshow": {
     "slide_type": "subslide"
    }
   },
   "outputs": [],
   "source": [
    "x = np.linspace(0, 1, 100)\n",
    "\n",
    "plt.plot(x, x**2, 'g.-')\n",
    "\n",
    "# plt.plot(x, x**2, 'g-', x[::10], x[::10]**2, 'go');\n",
    "\n",
    "# plt.plot(x, x**2, color=\"green\", linestyle=\"--\")\n",
    "# plt.plot(x[::10], x[::10] ** 2, color=\"darkgreen\", linestyle=\"\", marker=\"o\")\n",
    "\n",
    "# plt.plot(x, x**2, '--', x[::10], x[::10] ** 2, 'o', color=\"purple\")\n",
    "\n",
    "plt.show()"
   ]
  },
  {
   "cell_type": "markdown",
   "id": "f2fd98ef",
   "metadata": {
    "slideshow": {
     "slide_type": "subslide"
    }
   },
   "source": [
    "### scatter"
   ]
  },
  {
   "cell_type": "code",
   "execution_count": null,
   "id": "19f561e0",
   "metadata": {
    "slideshow": {
     "slide_type": "fragment"
    }
   },
   "outputs": [],
   "source": [
    "x = [0, 1, 2, 3]\n",
    "y = [2, 5, 1, -2]\n",
    "c = [50, 20, 10, 30]\n",
    "\n",
    "plt.scatter(x, y, c=c)\n",
    "plt.colorbar()\n",
    "\n",
    "# plt.plot(x, y, 'o', color=\"purple\")\n",
    "\n",
    "plt.show()"
   ]
  },
  {
   "cell_type": "code",
   "execution_count": null,
   "id": "6a04708f",
   "metadata": {
    "slideshow": {
     "slide_type": "subslide"
    }
   },
   "outputs": [],
   "source": [
    "data = {\n",
    "    'x': np.arange(50),\n",
    "    'c': np.random.randint(0, 50, 50),\n",
    "    'size': 100 * np.random.rand(50),\n",
    "}\n",
    "\n",
    "data['y'] = data['x'] + 10 * np.random.randn(50)\n",
    "\n",
    "plt.scatter('x', 'y', c='c', s='size', data=data)\n",
    "plt.show()"
   ]
  },
  {
   "cell_type": "markdown",
   "id": "e69f1607",
   "metadata": {
    "slideshow": {
     "slide_type": "notes"
    }
   },
   "source": [
    "c= non è un equivalente di color="
   ]
  },
  {
   "cell_type": "markdown",
   "id": "211839db",
   "metadata": {
    "slideshow": {
     "slide_type": "subslide"
    }
   },
   "source": [
    "### Variabili categoriche"
   ]
  },
  {
   "cell_type": "code",
   "execution_count": null,
   "id": "1ed39966",
   "metadata": {
    "slideshow": {
     "slide_type": "fragment"
    }
   },
   "outputs": [],
   "source": [
    "names = [\"Linux\", \"Windows\", \"Mac\"]\n",
    "values = [0, 0, 0]\n",
    "\n",
    "plt.bar(names, values)\n",
    "plt.show()"
   ]
  },
  {
   "cell_type": "code",
   "execution_count": null,
   "id": "ad099396",
   "metadata": {
    "slideshow": {
     "slide_type": "subslide"
    }
   },
   "outputs": [],
   "source": [
    "names = [\"Linux\", \"Windows\", \"Mac\"]\n",
    "values = [0, 0, 0]\n",
    "\n",
    "plt.figure(figsize=(9, 3))\n",
    "\n",
    "plt.subplot(131)\n",
    "plt.plot(names, values)\n",
    "\n",
    "plt.subplot(132)\n",
    "plt.scatter(names, values)\n",
    "\n",
    "plt.subplot(133)\n",
    "plt.bar(names, values)\n",
    "\n",
    "plt.show()"
   ]
  },
  {
   "cell_type": "code",
   "execution_count": null,
   "id": "ec1d7e76",
   "metadata": {
    "slideshow": {
     "slide_type": "subslide"
    }
   },
   "outputs": [],
   "source": [
    "fig, axes = plt.subplots(2, 2, sharex=True, sharey=True, figsize=(8, 8))\n",
    "\n",
    "axes[0, 0].plot(x, x)\n",
    "axes[0, 1].plot(x, x**2)\n",
    "axes[1, 0].plot(x, x**3)\n",
    "axes[1, 1].plot(x, np.sqrt(x))\n",
    "\n",
    "plt.show()"
   ]
  },
  {
   "cell_type": "code",
   "execution_count": null,
   "id": "369a49f3",
   "metadata": {
    "slideshow": {
     "slide_type": "subslide"
    }
   },
   "outputs": [],
   "source": [
    "mu, sigma = 178, 15\n",
    "\n",
    "x = mu + sigma * np.random.randn(10000)\n",
    "\n",
    "plt.title(\"Distribuzione altezza (cm)\")\n",
    "\n",
    "plt.hist(x, bins=50, density=1)\n",
    "\n",
    "plt.xlabel(\"bins\")\n",
    "plt.ylabel(\"probabilità\")\n",
    "\n",
    "plt.show()"
   ]
  },
  {
   "cell_type": "code",
   "execution_count": null,
   "id": "cd55588a",
   "metadata": {
    "slideshow": {
     "slide_type": "subslide"
    }
   },
   "outputs": [],
   "source": [
    "mu, sigma = 178, 15\n",
    "\n",
    "x = mu + sigma * np.random.randn(10000)\n",
    "\n",
    "plt.title(\"Distribuzione altezza (cm)\")\n",
    "\n",
    "plt.hist(x, bins=50, density=1)\n",
    "\n",
    "plt.xlabel(\"bins\")\n",
    "plt.ylabel(\"probabilità\")\n",
    "\n",
    "plt.axis([120, 240, 0, .030])\n",
    "plt.grid(True, which=\"major\")\n",
    "\n",
    "plt.show()"
   ]
  },
  {
   "cell_type": "code",
   "execution_count": null,
   "id": "913c1c42",
   "metadata": {},
   "outputs": [],
   "source": [
    "mu, sigma = 178, 15\n",
    "\n",
    "x = mu + sigma * np.random.randn(10000)\n",
    "\n",
    "plt.title(\"Distribuzione altezza (cm)\")\n",
    "\n",
    "plt.hist(x, bins=50, density=1)\n",
    "\n",
    "plt.xlabel(\"bins\")\n",
    "plt.ylabel(\"probabilità\")\n",
    "\n",
    "plt.text(140, .025, fr'μ={mu}')\n",
    "plt.text(140, .0235, fr'σ={sigma}')\n",
    "\n",
    "plt.annotate('media', xy=(mu, 0.027), xytext=(184, 0.028), arrowprops=dict(facecolor=\"purple\"))\n",
    "\n",
    "plt.axis([120, 240, 0, .030])\n",
    "plt.grid(True, which=\"major\")\n",
    "\n",
    "plt.show()"
   ]
  },
  {
   "cell_type": "markdown",
   "id": "e8bac6f1",
   "metadata": {
    "slideshow": {
     "slide_type": "slide"
    }
   },
   "source": [
    "## Seaborn"
   ]
  },
  {
   "cell_type": "code",
   "execution_count": null,
   "id": "68fe54a1",
   "metadata": {},
   "outputs": [],
   "source": []
  },
  {
   "cell_type": "code",
   "execution_count": null,
   "id": "b42c25e6",
   "metadata": {},
   "outputs": [],
   "source": []
  },
  {
   "cell_type": "markdown",
   "id": "fb6fa215",
   "metadata": {
    "slideshow": {
     "slide_type": "slide"
    }
   },
   "source": [
    "## Bokeh"
   ]
  },
  {
   "cell_type": "code",
   "execution_count": null,
   "id": "ab7a7ebf",
   "metadata": {
    "slideshow": {
     "slide_type": "subslide"
    }
   },
   "outputs": [],
   "source": [
    "from bokeh.io import output_notebook\n",
    "from bokeh.plotting import figure, show\n",
    "from bokeh.sampledata.penguins import data\n",
    "from bokeh.transform import factor_cmap, factor_mark\n",
    "\n",
    "output_notebook()\n",
    "\n",
    "SPECIES = sorted(data.species.unique())\n",
    "MARKERS = ['hex', 'circle_x', 'triangle']\n",
    "\n",
    "p = figure(title = \"Penguin size\", background_fill_color=\"#fafafa\")\n",
    "p.xaxis.axis_label = 'Flipper Length (mm)'\n",
    "p.yaxis.axis_label = 'Body Mass (g)'\n",
    "\n",
    "p.scatter(\"flipper_length_mm\", \"body_mass_g\", source=data,\n",
    "          legend_group=\"species\", fill_alpha=0.4, size=12,\n",
    "          marker=factor_mark('species', MARKERS, SPECIES),\n",
    "          color=factor_cmap('species', 'Category10_3', SPECIES))\n",
    "\n",
    "p.legend.location = \"top_left\"\n",
    "p.legend.title = \"Species\"\n",
    "\n",
    "show(p, notebook_handle=True);\n"
   ]
  },
  {
   "cell_type": "code",
   "execution_count": null,
   "id": "919de851",
   "metadata": {
    "slideshow": {
     "slide_type": "skip"
    }
   },
   "outputs": [],
   "source": []
  }
 ],
 "metadata": {
  "celltoolbar": "Slideshow",
  "kernelspec": {
   "display_name": "Python 3 (ipykernel)",
   "language": "python",
   "name": "python3"
  },
  "language_info": {
   "codemirror_mode": {
    "name": "ipython",
    "version": 3
   },
   "file_extension": ".py",
   "mimetype": "text/x-python",
   "name": "python",
   "nbconvert_exporter": "python",
   "pygments_lexer": "ipython3",
   "version": "3.10.8"
  },
  "rise": {
   "theme": "night"
  }
 },
 "nbformat": 4,
 "nbformat_minor": 5
}
