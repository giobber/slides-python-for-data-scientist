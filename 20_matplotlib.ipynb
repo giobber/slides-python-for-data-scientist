{
 "cells": [
  {
   "cell_type": "code",
   "execution_count": null,
   "id": "aab8dfec",
   "metadata": {
    "slideshow": {
     "slide_type": "skip"
    }
   },
   "outputs": [],
   "source": [
    "%%HTML\n",
    "<link rel=\"stylesheet\" type=\"text/css\" href=\"rise.css\">"
   ]
  },
  {
   "cell_type": "markdown",
   "id": "f877563b",
   "metadata": {
    "slideshow": {
     "slide_type": "slide"
    }
   },
   "source": [
    "# Python for Data Scientist\n",
    "## From data manipulation to machine learning"
   ]
  },
  {
   "cell_type": "markdown",
   "id": "25426422",
   "metadata": {
    "slideshow": {
     "slide_type": "slide"
    }
   },
   "source": [
    "# MatPlotLib"
   ]
  },
  {
   "cell_type": "markdown",
   "id": "e85e452f",
   "metadata": {
    "slideshow": {
     "slide_type": "fragment"
    }
   },
   "source": [
    "_Libreria python per la creazione di grafici_"
   ]
  },
  {
   "cell_type": "markdown",
   "id": "d3f4eaa1",
   "metadata": {
    "slideshow": {
     "slide_type": "notes"
    }
   },
   "source": [
    "* numerosi formati destinati all’uso cartaceo \n",
    "* ambienti interattivi (jupyter).\n",
    "* script Python\n",
    "* shell di Python e IPython\n",
    "* notebook Jupiter\n",
    "* applicazioni web \n",
    "* GUI\n"
   ]
  },
  {
   "cell_type": "code",
   "execution_count": null,
   "id": "bb7191fc",
   "metadata": {
    "slideshow": {
     "slide_type": "subslide"
    }
   },
   "outputs": [],
   "source": [
    "import numpy as np\n",
    "import matplotlib.pyplot as plt"
   ]
  },
  {
   "cell_type": "code",
   "execution_count": null,
   "id": "4dd64831",
   "metadata": {
    "scrolled": true,
    "slideshow": {
     "slide_type": "subslide"
    }
   },
   "outputs": [],
   "source": [
    "x = np.linspace(0, 1, 100)\n",
    "fig, axes = plt.subplots(1, 4, figsize=(20, 5))\n",
    "axes[0].plot(x, np.square(x))\n",
    "axes[1].scatter(x, np.random.rand(100))\n",
    "axes[2].bar([\"red\", \"green\", \"blue\"], [34, 56, 12])\n",
    "axes[3].hist(np.random.randn(5000), 30);"
   ]
  },
  {
   "cell_type": "markdown",
   "id": "e8bac6f1",
   "metadata": {
    "slideshow": {
     "slide_type": "slide"
    }
   },
   "source": [
    "## Seaborn"
   ]
  },
  {
   "cell_type": "markdown",
   "id": "fb6fa215",
   "metadata": {},
   "source": [
    "## Bokeh"
   ]
  },
  {
   "cell_type": "code",
   "execution_count": null,
   "id": "ab7a7ebf",
   "metadata": {},
   "outputs": [],
   "source": [
    "from bokeh.io import output_notebook\n",
    "from bokeh.plotting import figure, show\n",
    "from bokeh.sampledata.penguins import data\n",
    "from bokeh.transform import factor_cmap, factor_mark\n",
    "\n",
    "output_notebook()\n",
    "\n",
    "SPECIES = sorted(data.species.unique())\n",
    "MARKERS = ['hex', 'circle_x', 'triangle']\n",
    "\n",
    "p = figure(title = \"Penguin size\", background_fill_color=\"#fafafa\")\n",
    "p.xaxis.axis_label = 'Flipper Length (mm)'\n",
    "p.yaxis.axis_label = 'Body Mass (g)'\n",
    "\n",
    "p.scatter(\"flipper_length_mm\", \"body_mass_g\", source=data,\n",
    "          legend_group=\"species\", fill_alpha=0.4, size=12,\n",
    "          marker=factor_mark('species', MARKERS, SPECIES),\n",
    "          color=factor_cmap('species', 'Category10_3', SPECIES))\n",
    "\n",
    "p.legend.location = \"top_left\"\n",
    "p.legend.title = \"Species\"\n",
    "\n",
    "show(p, notebook_handle=True);\n"
   ]
  },
  {
   "cell_type": "code",
   "execution_count": null,
   "id": "919de851",
   "metadata": {},
   "outputs": [],
   "source": []
  }
 ],
 "metadata": {
  "celltoolbar": "Slideshow",
  "kernelspec": {
   "display_name": "Python 3 (ipykernel)",
   "language": "python",
   "name": "python3"
  },
  "language_info": {
   "codemirror_mode": {
    "name": "ipython",
    "version": 3
   },
   "file_extension": ".py",
   "mimetype": "text/x-python",
   "name": "python",
   "nbconvert_exporter": "python",
   "pygments_lexer": "ipython3",
   "version": "3.10.8"
  },
  "rise": {
   "theme": "night"
  }
 },
 "nbformat": 4,
 "nbformat_minor": 5
}
