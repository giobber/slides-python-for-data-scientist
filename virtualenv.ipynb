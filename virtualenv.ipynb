{
 "cells": [
  {
   "cell_type": "markdown",
   "id": "aef753cb",
   "metadata": {
    "slideshow": {
     "slide_type": "slide"
    }
   },
   "source": [
    "# Python for Data Scientist\n",
    "## From data manipulation to machine learning"
   ]
  },
  {
   "cell_type": "markdown",
   "id": "d6b50c17",
   "metadata": {
    "slideshow": {
     "slide_type": "slide"
    }
   },
   "source": [
    "# Come creare un enviroment"
   ]
  },
  {
   "cell_type": "markdown",
   "id": "36a8e66a",
   "metadata": {
    "slideshow": {
     "slide_type": "slide"
    }
   },
   "source": [
    "## Linux"
   ]
  },
  {
   "cell_type": "markdown",
   "id": "d80b6db9",
   "metadata": {},
   "source": []
  },
  {
   "cell_type": "markdown",
   "id": "bc4d3819",
   "metadata": {},
   "source": [
    "```bash\n",
    "$ mkdir myproject\n",
    "$ cd mkdir\n",
    "$ python -m venv .venv\n",
    "```"
   ]
  },
  {
   "cell_type": "code",
   "execution_count": null,
   "id": "b16b3d7e",
   "metadata": {},
   "outputs": [],
   "source": []
  }
 ],
 "metadata": {
  "celltoolbar": "Slideshow",
  "kernelspec": {
   "display_name": "Python 3 (ipykernel)",
   "language": "python",
   "name": "python3"
  },
  "language_info": {
   "codemirror_mode": {
    "name": "ipython",
    "version": 3
   },
   "file_extension": ".py",
   "mimetype": "text/x-python",
   "name": "python",
   "nbconvert_exporter": "python",
   "pygments_lexer": "ipython3",
   "version": "3.10.8"
  }
 },
 "nbformat": 4,
 "nbformat_minor": 5
}
