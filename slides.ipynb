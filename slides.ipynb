{
 "cells": [
  {
   "cell_type": "code",
   "execution_count": null,
   "id": "c2878ab2",
   "metadata": {
    "slideshow": {
     "slide_type": "skip"
    }
   },
   "outputs": [],
   "source": [
    "%%HTML\n",
    "<link rel=\"stylesheet\" type=\"text/css\" href=\"rise.css\">"
   ]
  },
  {
   "cell_type": "markdown",
   "id": "6ed6a02e",
   "metadata": {
    "slideshow": {
     "slide_type": "slide"
    }
   },
   "source": [
    "# Python for Data Scientist\n",
    "## From data manipulation to machine learning\n"
   ]
  },
  {
   "cell_type": "markdown",
   "id": "d011f56c",
   "metadata": {
    "slideshow": {
     "slide_type": "subslide"
    }
   },
   "source": [
    "<div style=\"display: flex; justify-content: space-between; \n",
    "            align-items: center;\">\n",
    "    <img src=\"images/me.jpg\">\n",
    "    <div style=\"text-align: center; vertical-align: middle; width: 100%\">\n",
    "        <br>\n",
    "        <h1>Elia Giacobazzi</h1>\n",
    "        elia.giacobazzi@euler.it<br>\n",
    "        <h5>\n",
    "            Matematico<br>\n",
    "            Libero Professionista<br>\n",
    "            Data Scientist\n",
    "        </h5>\n",
    "    </div>\n",
    "</div>"
   ]
  },
  {
   "cell_type": "markdown",
   "id": "9d14b3de",
   "metadata": {
    "slideshow": {
     "slide_type": "subslide"
    }
   },
   "source": [
    "<div class=\"gallery\">\n",
    "    <img src=images/clinux-logo.png>\n",
    "    <img src=images/euler-logo.png>\n",
    "</div>"
   ]
  },
  {
   "cell_type": "markdown",
   "id": "58ad096c",
   "metadata": {
    "slideshow": {
     "slide_type": "subslide"
    }
   },
   "source": [
    "## Premessa"
   ]
  },
  {
   "cell_type": "markdown",
   "id": "d6d323eb",
   "metadata": {
    "slideshow": {
     "slide_type": "fragment"
    }
   },
   "source": [
    "Ringrazio **Alessandro Grandi** di **Digital Dreamers** per le loro slides"
   ]
  },
  {
   "cell_type": "markdown",
   "id": "81d7bdec",
   "metadata": {
    "slideshow": {
     "slide_type": "skip"
    }
   },
   "source": []
  },
  {
   "cell_type": "markdown",
   "id": "c4e5ba70",
   "metadata": {
    "slideshow": {
     "slide_type": "slide"
    }
   },
   "source": [
    "# Data Science"
   ]
  },
  {
   "cell_type": "markdown",
   "id": "a782ba40",
   "metadata": {
    "slideshow": {
     "slide_type": "subslide"
    }
   },
   "source": [
    "_Scopo del Data Scientist è quello di organizzare e analizzare grandi quantità di dati_"
   ]
  },
  {
   "cell_type": "markdown",
   "id": "a5fa2515",
   "metadata": {
    "slideshow": {
     "slide_type": "fragment"
    }
   },
   "source": [
    "* Big Data\n",
    "* Analytics\n",
    "* Automazione\n",
    "* Machine Learning"
   ]
  },
  {
   "cell_type": "markdown",
   "id": "f951453f",
   "metadata": {
    "slideshow": {
     "slide_type": "subslide"
    }
   },
   "source": [
    "### E python cosa c'entra?"
   ]
  },
  {
   "cell_type": "markdown",
   "id": "d95f6d83",
   "metadata": {
    "slideshow": {
     "slide_type": "fragment"
    }
   },
   "source": [
    "* [numfocus.org](https://numfocus.org)\n",
    "* [numpy.org](https://numpy.org)\n",
    "* [pandas.pydata.org](https://pandas.pydata.org)\n",
    "* [scipy.org](https://scipy.org)\n",
    "* [scikit-learn.org](https://scikit-learn.org)"
   ]
  },
  {
   "cell_type": "markdown",
   "id": "7c3d0bbc",
   "metadata": {
    "slideshow": {
     "slide_type": "subslide"
    }
   },
   "source": [
    "#### Tutto molto bello, ma come si ottiene questa roba?"
   ]
  },
  {
   "cell_type": "markdown",
   "id": "8c7d6b35",
   "metadata": {
    "slideshow": {
     "slide_type": "fragment"
    }
   },
   "source": [
    "Tamite `pip`\n",
    "```sh\n",
    "> pip install numpy\n",
    "> pip install pandas \n",
    "> pip install scipy\n",
    "...\n",
    "```"
   ]
  },
  {
   "cell_type": "markdown",
   "id": "f2de98d3",
   "metadata": {
    "slideshow": {
     "slide_type": "fragment"
    }
   },
   "source": [
    "Tramite [Anaconda](https://www.anaconda.com/products/distribution)\n",
    "```bash\n",
    "> conda create --name science \n",
    "> conda activate science\n",
    "> conda install numpy\n",
    "> conda install pandas\n",
    "...\n",
    "\n",
    "```"
   ]
  },
  {
   "cell_type": "markdown",
   "id": "501ac845",
   "metadata": {
    "slideshow": {
     "slide_type": "slide"
    }
   },
   "source": [
    "# NumPy\n",
    "## https://numpy.org/"
   ]
  },
  {
   "cell_type": "markdown",
   "id": "3956a685",
   "metadata": {
    "slideshow": {
     "slide_type": "subslide"
    }
   },
   "source": [
    "**NumPy** (**Num**erical **Py**thon)\n",
    "\n",
    "Libreria per il calcolo numerico in Python"
   ]
  },
  {
   "cell_type": "code",
   "execution_count": null,
   "id": "c399893a",
   "metadata": {},
   "outputs": [],
   "source": [
    "<div class=\"gallery\">\n",
    "    <img src=images/clinux-logo.png>\n",
    "    <img src=images/euler-logo.png>\n",
    "</div>"
   ]
  },
  {
   "cell_type": "code",
   "execution_count": null,
   "id": "bde68f9a",
   "metadata": {
    "slideshow": {
     "slide_type": "subslide"
    }
   },
   "outputs": [],
   "source": [
    "import numpy as np\n",
    "\n",
    "np.version.version"
   ]
  }
 ],
 "metadata": {
  "celltoolbar": "Slideshow",
  "kernelspec": {
   "display_name": "Python 3 (ipykernel)",
   "language": "python",
   "name": "python3"
  },
  "language_info": {
   "codemirror_mode": {
    "name": "ipython",
    "version": 3
   },
   "file_extension": ".py",
   "mimetype": "text/x-python",
   "name": "python",
   "nbconvert_exporter": "python",
   "pygments_lexer": "ipython3",
   "version": "3.10.8"
  },
  "rise": {
   "theme": "night"
  }
 },
 "nbformat": 4,
 "nbformat_minor": 5
}
