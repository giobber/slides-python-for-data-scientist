{
 "cells": [
  {
   "cell_type": "markdown",
   "id": "aef753cb",
   "metadata": {
    "slideshow": {
     "slide_type": "slide"
    }
   },
   "source": [
    "# Python for Data Scientist\n",
    "## From data manipulation to machine learning"
   ]
  },
  {
   "cell_type": "markdown",
   "id": "d6b50c17",
   "metadata": {
    "slideshow": {
     "slide_type": "slide"
    }
   },
   "source": [
    "# Virtualenv"
   ]
  },
  {
   "cell_type": "markdown",
   "id": "21b8f214",
   "metadata": {},
   "source": [
    "_Un virtual environment permette di avere tutti i pacchetti in un contenitore isolato_"
   ]
  },
  {
   "cell_type": "markdown",
   "id": "36a8e66a",
   "metadata": {
    "slideshow": {
     "slide_type": "slide"
    }
   },
   "source": [
    "## Python"
   ]
  },
  {
   "cell_type": "markdown",
   "id": "d80b6db9",
   "metadata": {
    "slideshow": {
     "slide_type": "subslide"
    }
   },
   "source": [
    "## `venv`\n",
    "\n",
    "[docs.python.org/3/library/venv.html](https://docs.python.org/3/library/venv.html)"
   ]
  },
  {
   "cell_type": "markdown",
   "id": "bc4d3819",
   "metadata": {
    "slideshow": {
     "slide_type": "fragment"
    }
   },
   "source": [
    "```bash\n",
    "$ sudo pacman -S python-venv\n",
    "\n",
    "$ mkdir myproject\n",
    "$ cd myproject\n",
    "\n",
    "$ python -m venv .venv\n",
    "$ source .venv/bin/activate\n",
    "\n",
    "(.venv)$ pip install numpy\n",
    "(.venv)$ python\n",
    "(.venv)$ deactivate\n",
    "```"
   ]
  },
  {
   "cell_type": "markdown",
   "id": "d1f7753e",
   "metadata": {
    "slideshow": {
     "slide_type": "subslide"
    }
   },
   "source": [
    "## `virtualenv`\n",
    "\n",
    "[virtualenv.pypa.io](https://virtualenv.pypa.io/en/latest/)"
   ]
  },
  {
   "cell_type": "markdown",
   "id": "eed99369",
   "metadata": {
    "slideshow": {
     "slide_type": "fragment"
    }
   },
   "source": [
    "```bash\n",
    "$ sudo pacman -S python-virtualenv\n",
    "$ python -m pip install --user virtualenv\n",
    "\n",
    "$ mkdir myproject\n",
    "$ cd myproject\n",
    "\n",
    "$ python -m virtualenv .venv\n",
    "$ source .venv/bin/activate\n",
    "\n",
    "(.venv)$ pip install numpy\n",
    "(.venv)$ python\n",
    "(.venv)$ deactivate\n",
    "```"
   ]
  },
  {
   "cell_type": "markdown",
   "id": "72583b10",
   "metadata": {
    "slideshow": {
     "slide_type": "subslide"
    }
   },
   "source": [
    "## Alternative"
   ]
  },
  {
   "cell_type": "markdown",
   "id": "788ee8a6",
   "metadata": {
    "slideshow": {
     "slide_type": "-"
    }
   },
   "source": [
    "\n",
    "* `pipenv`\n",
    "* `poetry`\n",
    "* `pipx`\n",
    "* ..."
   ]
  },
  {
   "cell_type": "markdown",
   "id": "17a0af69",
   "metadata": {
    "slideshow": {
     "slide_type": "subslide"
    }
   },
   "source": [
    "## `conda`\n",
    "[docs.conda.io](https://docs.conda.io)"
   ]
  },
  {
   "cell_type": "markdown",
   "id": "e2b69117",
   "metadata": {
    "slideshow": {
     "slide_type": "fragment"
    }
   },
   "source": [
    "```bash\n",
    "$ conda create --name science python=3\n",
    "$ conda activate science\n",
    "```"
   ]
  },
  {
   "cell_type": "markdown",
   "id": "9d51bf3d",
   "metadata": {
    "slideshow": {
     "slide_type": "fragment"
    }
   },
   "source": [
    "```bash\n",
    "(science)$ conda install numpy\n",
    "(science)$ pip install numpy\n",
    "(science)$ python\n",
    "\n",
    "(science)$ conda deactivate\n",
    "```"
   ]
  },
  {
   "cell_type": "markdown",
   "id": "fcfc2722",
   "metadata": {
    "slideshow": {
     "slide_type": "slide"
    }
   },
   "source": [
    "# Jupyter"
   ]
  },
  {
   "cell_type": "markdown",
   "id": "916e2250",
   "metadata": {
    "slideshow": {
     "slide_type": "subslide"
    }
   },
   "source": [
    "<img src=https://jupyter.org/assets/homepage/main-logo.svg class=\"center\" />"
   ]
  },
  {
   "cell_type": "markdown",
   "id": "4a8923c2",
   "metadata": {
    "slideshow": {
     "slide_type": "subslide"
    }
   },
   "source": [
    "## Presentazione live"
   ]
  },
  {
   "cell_type": "markdown",
   "id": "c3548a39",
   "metadata": {
    "slideshow": {
     "slide_type": "notes"
    }
   },
   "source": [
    "Cose da fare nella presentazione\n",
    "\n",
    "1. crea un `venv`\n",
    "2. crea un `virtualenv`\n",
    "3. mostra che puoi installare, attivare usare e cancellare i venv\n",
    "4. installa numpy, jupyter e matplotlib\n",
    "5. genera un grafico di esempio per far vedere cosa permette di fare jupyter"
   ]
  },
  {
   "cell_type": "markdown",
   "id": "fd543803",
   "metadata": {
    "slideshow": {
     "slide_type": "slide"
    }
   },
   "source": [
    "* [Introduzione](/notebooks/00_intro.ipynb)\n",
    "* [Virtual Environments](/notebooks/01_venvs.ipynb)\n",
    "* [NumPy](/notebooks/10_numpy.ipynb)\n",
    "* [MatPlotLib](/notebooks/20_matplotlib.ipynb)\n",
    "* [Pandas](/notebooks/30_pandas.ipynb)\n",
    "* [Scipy](/notebooks/40_scipy.ipynb)"
   ]
  }
 ],
 "metadata": {
  "celltoolbar": "Slideshow",
  "kernelspec": {
   "display_name": "Python 3 (ipykernel)",
   "language": "python",
   "name": "python3"
  },
  "language_info": {
   "codemirror_mode": {
    "name": "ipython",
    "version": 3
   },
   "file_extension": ".py",
   "mimetype": "text/x-python",
   "name": "python",
   "nbconvert_exporter": "python",
   "pygments_lexer": "ipython3",
   "version": "3.10.8"
  },
  "rise": {
   "theme": "night"
  }
 },
 "nbformat": 4,
 "nbformat_minor": 5
}
